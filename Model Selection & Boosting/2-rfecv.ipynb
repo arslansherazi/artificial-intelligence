{
 "cells": [
  {
   "cell_type": "markdown",
   "metadata": {},
   "source": [
    "# RFECV\n",
    "* __RFECV (Recursive Features Elimination Cross Validation)__ \n",
    "* __It is used for selection of best features using cross validation and recursive features elimination (iterative approach)__"
   ]
  },
  {
   "cell_type": "code",
   "execution_count": 2,
   "metadata": {},
   "outputs": [],
   "source": [
    "import pandas as pd\n",
    "import numpy as np\n",
    "from sklearn import preprocessing\n",
    "from sklearn.ensemble import RandomForestClassifier\n",
    "from sklearn.feature_selection import RFECV"
   ]
  },
  {
   "cell_type": "markdown",
   "metadata": {},
   "source": [
    "## Loading Dataset"
   ]
  },
  {
   "cell_type": "code",
   "execution_count": 3,
   "metadata": {},
   "outputs": [],
   "source": [
    "dataset = pd.read_csv(\"../../../Datasets/car_evaluation.txt\", sep=\",\")\n",
    "dataset.columns = ['buying','maintenance','doors','persons','lug_boot', 'safety', 'target']"
   ]
  },
  {
   "cell_type": "code",
   "execution_count": 4,
   "metadata": {},
   "outputs": [
    {
     "data": {
      "text/plain": [
       "(1727, 7)"
      ]
     },
     "execution_count": 4,
     "metadata": {},
     "output_type": "execute_result"
    }
   ],
   "source": [
    "samples_count, features_count = dataset.shape\n",
    "samples_count, features_count"
   ]
  },
  {
   "cell_type": "markdown",
   "metadata": {},
   "source": [
    "## Separating target column from dataset"
   ]
  },
  {
   "cell_type": "code",
   "execution_count": 5,
   "metadata": {},
   "outputs": [],
   "source": [
    "target = dataset['target']\n",
    "dataset = dataset.drop('target',axis=1)"
   ]
  },
  {
   "cell_type": "markdown",
   "metadata": {},
   "source": [
    "## One-Hot Encoding of Dataset & Target column"
   ]
  },
  {
   "cell_type": "markdown",
   "metadata": {},
   "source": [
    "### Dataset"
   ]
  },
  {
   "cell_type": "code",
   "execution_count": 6,
   "metadata": {},
   "outputs": [],
   "source": [
    "ohe_dataset = preprocessing.OneHotEncoder()\n",
    "ohe_dataset.fit(dataset.values) \n",
    "dataset_encoded = ohe_dataset.transform(dataset.values).toarray()"
   ]
  },
  {
   "cell_type": "markdown",
   "metadata": {},
   "source": [
    "### Target Column"
   ]
  },
  {
   "cell_type": "code",
   "execution_count": 7,
   "metadata": {},
   "outputs": [],
   "source": [
    "le_target = preprocessing.LabelEncoder()\n",
    "target_encoded = le_target.fit_transform(target)"
   ]
  },
  {
   "cell_type": "markdown",
   "metadata": {},
   "source": [
    "## Applying Random Forest using RFECV"
   ]
  },
  {
   "cell_type": "code",
   "execution_count": 8,
   "metadata": {},
   "outputs": [],
   "source": [
    "x = dataset_encoded\n",
    "y = target_encoded"
   ]
  },
  {
   "cell_type": "code",
   "execution_count": 9,
   "metadata": {},
   "outputs": [
    {
     "data": {
      "text/plain": [
       "RFECV(cv=4,\n",
       "      estimator=RandomForestClassifier(bootstrap=True, ccp_alpha=0.0,\n",
       "                                       class_weight=None, criterion='gini',\n",
       "                                       max_depth=None, max_features='auto',\n",
       "                                       max_leaf_nodes=None, max_samples=None,\n",
       "                                       min_impurity_decrease=0.0,\n",
       "                                       min_impurity_split=None,\n",
       "                                       min_samples_leaf=1, min_samples_split=2,\n",
       "                                       min_weight_fraction_leaf=0.0,\n",
       "                                       n_estimators=100, n_jobs=None,\n",
       "                                       oob_score=False, random_state=None,\n",
       "                                       verbose=0, warm_start=False),\n",
       "      min_features_to_select=1, n_jobs=None, scoring='accuracy', step=1,\n",
       "      verbose=0)"
      ]
     },
     "execution_count": 9,
     "metadata": {},
     "output_type": "execute_result"
    }
   ],
   "source": [
    "random_forest = RandomForestClassifier()\n",
    "rfecv = RFECV(estimator=random_forest, step=1, cv=4, scoring='accuracy')\n",
    "rfecv.fit(x, y)"
   ]
  },
  {
   "cell_type": "code",
   "execution_count": 10,
   "metadata": {},
   "outputs": [
    {
     "name": "stdout",
     "output_type": "stream",
     "text": [
      "Optimal number of features : 2\n",
      "Accuracy:: 0.7776491024898669\n"
     ]
    }
   ],
   "source": [
    "print(\"Optimal number of features : %d\" % rfecv.n_features_) \n",
    "print(\"Accuracy::\",rfecv.score(x,y))"
   ]
  },
  {
   "cell_type": "markdown",
   "metadata": {},
   "source": [
    "## Prediction by using input data from user"
   ]
  },
  {
   "cell_type": "code",
   "execution_count": 11,
   "metadata": {},
   "outputs": [
    {
     "name": "stdout",
     "output_type": "stream",
     "text": [
      "Enter buying category(vhigh,high,med,low)::low\n",
      "Enter buying maintenance(vhigh,high,med,low)::low\n",
      "Enter no of doors(2,3,4,5more)::3\n",
      "Enter no of persons(2,4,more)::4\n",
      "Enter lug_boot category(small,med,big)::small\n",
      "Enter safety category(low,med,high)::med\n"
     ]
    }
   ],
   "source": [
    "buying = input(\"Enter buying category(vhigh,high,med,low)::\")\n",
    "maintenance = input(\"Enter buying maintenance(vhigh,high,med,low)::\")\n",
    "doors = input(\"Enter no of doors(2,3,4,5more)::\")\n",
    "persons = input(\"Enter no of persons(2,4,more)::\")\n",
    "lug_boot = input(\"Enter lug_boot category(small,med,big)::\")\n",
    "safety = input(\"Enter safety category(low,med,high)::\")"
   ]
  },
  {
   "cell_type": "code",
   "execution_count": 12,
   "metadata": {},
   "outputs": [],
   "source": [
    "user_sample = [[buying, maintenance, doors, persons, lug_boot, safety]]\n",
    "user_sample_encoded = ohe_dataset.transform(user_sample).toarray()\n",
    "result_encoded = rfecv.predict(user_sample_encoded)\n",
    "result_decoded = le_target.inverse_transform(result_encoded)\n",
    "result = result_decoded[0]"
   ]
  },
  {
   "cell_type": "code",
   "execution_count": 13,
   "metadata": {},
   "outputs": [
    {
     "name": "stdout",
     "output_type": "stream",
     "text": [
      "Your car is accurate\n"
     ]
    }
   ],
   "source": [
    "if result == 'unacc':\n",
    "    print(\"Your car is unaccurate\")\n",
    "elif result == 'acc':\n",
    "    print(\"Your car is accurate\")\n",
    "elif result == 'good':\n",
    "    print(\"Your car is good\")\n",
    "else:\n",
    "    print(\"Your car is very good\")"
   ]
  },
  {
   "cell_type": "code",
   "execution_count": null,
   "metadata": {},
   "outputs": [],
   "source": []
  }
 ],
 "metadata": {
  "colab": {
   "authorship_tag": "ABX9TyOD2/gZgY69JdiiGJVNfu7s",
   "collapsed_sections": [],
   "name": "data_preprocessing_template.ipynb",
   "provenance": [],
   "toc_visible": true
  },
  "kernelspec": {
   "display_name": "Python 3",
   "language": "python",
   "name": "python3"
  },
  "language_info": {
   "codemirror_mode": {
    "name": "ipython",
    "version": 3
   },
   "file_extension": ".py",
   "mimetype": "text/x-python",
   "name": "python",
   "nbconvert_exporter": "python",
   "pygments_lexer": "ipython3",
   "version": "3.7.6"
  }
 },
 "nbformat": 4,
 "nbformat_minor": 1
}
