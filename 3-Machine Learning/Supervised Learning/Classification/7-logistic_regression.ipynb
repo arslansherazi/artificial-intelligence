{
  "nbformat": 4,
  "nbformat_minor": 0,
  "metadata": {
    "colab": {
      "name": "6-logistic_regression.ipynb",
      "provenance": [],
      "collapsed_sections": [],
      "toc_visible": true
    },
    "kernelspec": {
      "display_name": "Python 3",
      "language": "python",
      "name": "python3"
    },
    "language_info": {
      "codemirror_mode": {
        "name": "ipython",
        "version": 3
      },
      "file_extension": ".py",
      "mimetype": "text/x-python",
      "name": "python",
      "nbconvert_exporter": "python",
      "pygments_lexer": "ipython3",
      "version": "3.7.6"
    }
  },
  "cells": [
    {
      "cell_type": "markdown",
      "metadata": {
        "id": "qe7yYBK_bPv3",
        "colab_type": "text"
      },
      "source": [
        "# Logistic Regression"
      ]
    },
    {
      "cell_type": "code",
      "metadata": {
        "id": "7MkS5CYTbPv5",
        "colab_type": "code",
        "colab": {}
      },
      "source": [
        "import pandas as pd \n",
        "import numpy as np\n",
        "from sklearn.model_selection import train_test_split\n",
        "from sklearn.preprocessing import StandardScaler\n",
        "from sklearn.linear_model import LogisticRegression\n",
        "from sklearn.metrics import confusion_matrix, accuracy_score"
      ],
      "execution_count": 86,
      "outputs": []
    },
    {
      "cell_type": "markdown",
      "metadata": {
        "id": "jgYwlYq5bPv9",
        "colab_type": "text"
      },
      "source": [
        "## Loading Dataset"
      ]
    },
    {
      "cell_type": "code",
      "metadata": {
        "id": "bfYklN2LbPv9",
        "colab_type": "code",
        "colab": {
          "base_uri": "https://localhost:8080/",
          "height": 204
        },
        "outputId": "c5e868c4-44ac-4b2e-ca73-f6aa84f878fb"
      },
      "source": [
        "dataset = pd.read_csv(\"social_network_ads.csv\", sep=\",\")\n",
        "dataset.head()"
      ],
      "execution_count": 62,
      "outputs": [
        {
          "output_type": "execute_result",
          "data": {
            "text/html": [
              "<div>\n",
              "<style scoped>\n",
              "    .dataframe tbody tr th:only-of-type {\n",
              "        vertical-align: middle;\n",
              "    }\n",
              "\n",
              "    .dataframe tbody tr th {\n",
              "        vertical-align: top;\n",
              "    }\n",
              "\n",
              "    .dataframe thead th {\n",
              "        text-align: right;\n",
              "    }\n",
              "</style>\n",
              "<table border=\"1\" class=\"dataframe\">\n",
              "  <thead>\n",
              "    <tr style=\"text-align: right;\">\n",
              "      <th></th>\n",
              "      <th>Age</th>\n",
              "      <th>EstimatedSalary</th>\n",
              "      <th>Purchased</th>\n",
              "    </tr>\n",
              "  </thead>\n",
              "  <tbody>\n",
              "    <tr>\n",
              "      <th>0</th>\n",
              "      <td>19</td>\n",
              "      <td>19000</td>\n",
              "      <td>0</td>\n",
              "    </tr>\n",
              "    <tr>\n",
              "      <th>1</th>\n",
              "      <td>35</td>\n",
              "      <td>20000</td>\n",
              "      <td>0</td>\n",
              "    </tr>\n",
              "    <tr>\n",
              "      <th>2</th>\n",
              "      <td>26</td>\n",
              "      <td>43000</td>\n",
              "      <td>0</td>\n",
              "    </tr>\n",
              "    <tr>\n",
              "      <th>3</th>\n",
              "      <td>27</td>\n",
              "      <td>57000</td>\n",
              "      <td>0</td>\n",
              "    </tr>\n",
              "    <tr>\n",
              "      <th>4</th>\n",
              "      <td>19</td>\n",
              "      <td>76000</td>\n",
              "      <td>0</td>\n",
              "    </tr>\n",
              "  </tbody>\n",
              "</table>\n",
              "</div>"
            ],
            "text/plain": [
              "   Age  EstimatedSalary  Purchased\n",
              "0   19            19000          0\n",
              "1   35            20000          0\n",
              "2   26            43000          0\n",
              "3   27            57000          0\n",
              "4   19            76000          0"
            ]
          },
          "metadata": {
            "tags": []
          },
          "execution_count": 62
        }
      ]
    },
    {
      "cell_type": "code",
      "metadata": {
        "id": "wnlBoqTWbPwC",
        "colab_type": "code",
        "colab": {
          "base_uri": "https://localhost:8080/",
          "height": 34
        },
        "outputId": "48dde9dd-177e-47dd-c49a-2625ff40c04f"
      },
      "source": [
        "samples_count, features_count = dataset.shape\n",
        "samples_count, features_count"
      ],
      "execution_count": 56,
      "outputs": [
        {
          "output_type": "execute_result",
          "data": {
            "text/plain": [
              "(400, 3)"
            ]
          },
          "metadata": {
            "tags": []
          },
          "execution_count": 56
        }
      ]
    },
    {
      "cell_type": "markdown",
      "metadata": {
        "id": "0zPG-__XbPwF",
        "colab_type": "text"
      },
      "source": [
        "## Separating target column from dataset"
      ]
    },
    {
      "cell_type": "code",
      "metadata": {
        "id": "tzeCllu2bPwF",
        "colab_type": "code",
        "colab": {}
      },
      "source": [
        "target = dataset.iloc[:, -1].values\n",
        "dataset = dataset.iloc[:, :-1].values"
      ],
      "execution_count": 63,
      "outputs": []
    },
    {
      "cell_type": "markdown",
      "metadata": {
        "id": "UXogpFCibPwW",
        "colab_type": "text"
      },
      "source": [
        "## Train & Test split"
      ]
    },
    {
      "cell_type": "code",
      "metadata": {
        "id": "l4sSqQbZbPwX",
        "colab_type": "code",
        "colab": {}
      },
      "source": [
        "train_dataset, test_dataset, train_target, test_target = train_test_split(dataset, target, test_size=0.2, random_state=0)"
      ],
      "execution_count": 64,
      "outputs": []
    },
    {
      "cell_type": "markdown",
      "metadata": {
        "id": "Icj0WDeJcma2",
        "colab_type": "text"
      },
      "source": [
        "## Feature Scaling"
      ]
    },
    {
      "cell_type": "code",
      "metadata": {
        "id": "S13jmXhHcoGW",
        "colab_type": "code",
        "colab": {}
      },
      "source": [
        "sc = StandardScaler()\n",
        "train_dataset = sc.fit_transform(train_dataset)\n",
        "test_dataset = sc.transform(test_dataset)"
      ],
      "execution_count": 68,
      "outputs": []
    },
    {
      "cell_type": "markdown",
      "metadata": {
        "id": "MmUcVc5abPwZ",
        "colab_type": "text"
      },
      "source": [
        "## Logistic Regression Training"
      ]
    },
    {
      "cell_type": "code",
      "metadata": {
        "id": "O_C9SCKkbPwZ",
        "colab_type": "code",
        "colab": {
          "base_uri": "https://localhost:8080/",
          "height": 102
        },
        "outputId": "7107a76d-6e70-42a5-9622-89a07b08dc6a"
      },
      "source": [
        "lr = LogisticRegression(random_state=0)\n",
        "lr.fit(train_dataset, train_target)"
      ],
      "execution_count": 69,
      "outputs": [
        {
          "output_type": "execute_result",
          "data": {
            "text/plain": [
              "LogisticRegression(C=1.0, class_weight=None, dual=False, fit_intercept=True,\n",
              "                   intercept_scaling=1, l1_ratio=None, max_iter=100,\n",
              "                   multi_class='auto', n_jobs=None, penalty='l2',\n",
              "                   random_state=0, solver='lbfgs', tol=0.0001, verbose=0,\n",
              "                   warm_start=False)"
            ]
          },
          "metadata": {
            "tags": []
          },
          "execution_count": 69
        }
      ]
    },
    {
      "cell_type": "code",
      "metadata": {
        "id": "8nnt40sHc0vp",
        "colab_type": "code",
        "colab": {}
      },
      "source": [
        ""
      ],
      "execution_count": null,
      "outputs": []
    },
    {
      "cell_type": "markdown",
      "metadata": {
        "id": "jUZF41ujbPwd",
        "colab_type": "text"
      },
      "source": [
        "## Check Accuracy"
      ]
    },
    {
      "cell_type": "code",
      "metadata": {
        "id": "1S87iTgebPwd",
        "colab_type": "code",
        "colab": {
          "base_uri": "https://localhost:8080/",
          "height": 34
        },
        "outputId": "8d91ab04-6922-4fb9-d739-bee1c8c57cbb"
      },
      "source": [
        "predictions = lr.predict(test_dataset)\n",
        "accuracy = np.sum(predictions==test_target) / float(len(test_target))\n",
        "print('%.2f' % accuracy)"
      ],
      "execution_count": 70,
      "outputs": [
        {
          "output_type": "stream",
          "text": [
            "0.93\n"
          ],
          "name": "stdout"
        }
      ]
    },
    {
      "cell_type": "markdown",
      "metadata": {
        "id": "-3X03mBQnfmP",
        "colab_type": "text"
      },
      "source": [
        "## Confusion Matrix\n",
        "- It is used to specify correct and wrong predictions"
      ]
    },
    {
      "cell_type": "code",
      "metadata": {
        "id": "Z1lwCSqDoG4k",
        "colab_type": "code",
        "colab": {
          "base_uri": "https://localhost:8080/",
          "height": 51
        },
        "outputId": "1223e177-fa56-4dba-c011-03089beebd66"
      },
      "source": [
        "cm = confusion_matrix(test_target, predictions)\n",
        "cm"
      ],
      "execution_count": 87,
      "outputs": [
        {
          "output_type": "execute_result",
          "data": {
            "text/plain": [
              "array([[57,  1],\n",
              "       [ 5, 17]])"
            ]
          },
          "metadata": {
            "tags": []
          },
          "execution_count": 87
        }
      ]
    },
    {
      "cell_type": "markdown",
      "metadata": {
        "id": "t3pQ86A4bPwg",
        "colab_type": "text"
      },
      "source": [
        "## Prediction by using input data from user"
      ]
    },
    {
      "cell_type": "code",
      "metadata": {
        "id": "oJv4nCbAbPwh",
        "colab_type": "code",
        "colab": {
          "base_uri": "https://localhost:8080/",
          "height": 51
        },
        "outputId": "1391263e-e402-4f63-d13f-fa852e56f127"
      },
      "source": [
        "age = input(\"Enter Age::\")\n",
        "estimated_salary = input(\"Enter Estimated Salary::\")"
      ],
      "execution_count": 82,
      "outputs": [
        {
          "output_type": "stream",
          "text": [
            "Enter Age::55\n",
            "Enter Estimated Salary::234000\n"
          ],
          "name": "stdout"
        }
      ]
    },
    {
      "cell_type": "code",
      "metadata": {
        "id": "IO1VEP5ubPwm",
        "colab_type": "code",
        "colab": {}
      },
      "source": [
        "user_sample_encoded = sc.transform([[age, estimated_salary]])"
      ],
      "execution_count": 84,
      "outputs": []
    },
    {
      "cell_type": "code",
      "metadata": {
        "id": "rZUu0fgXbPwo",
        "colab_type": "code",
        "colab": {}
      },
      "source": [
        "result = lr.predict(user_sample_encoded)\n",
        "is_purchased = result[0]"
      ],
      "execution_count": 85,
      "outputs": []
    },
    {
      "cell_type": "code",
      "metadata": {
        "id": "YfBWEuofbPws",
        "colab_type": "code",
        "colab": {
          "base_uri": "https://localhost:8080/",
          "height": 34
        },
        "outputId": "1e2f822d-1bef-4b07-8b0e-522ed7c382ac"
      },
      "source": [
        "if is_purchased:\n",
        "    print(\"Purchased\")\n",
        "else:\n",
        "    print(\"Not Purchased\")"
      ],
      "execution_count": 81,
      "outputs": [
        {
          "output_type": "stream",
          "text": [
            "Not Purchased\n"
          ],
          "name": "stdout"
        }
      ]
    }
  ]
}