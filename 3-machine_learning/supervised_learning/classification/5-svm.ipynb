{
 "cells": [
  {
   "cell_type": "markdown",
   "metadata": {},
   "source": [
    "# Support Vector Machine\n",
    "* __SVM does not support RFECV__\n",
    "* __We use Label encoding for target because SVM does not support multi valued target colum(list of lists) unlike other   classification algorithms.__"
   ]
  },
  {
   "cell_type": "code",
   "execution_count": null,
   "metadata": {},
   "outputs": [],
   "source": [
    "import pandas as pd\n",
    "import numpy as np\n",
    "from sklearn import preprocessing\n",
    "from sklearn.model_selection import train_test_split\n",
    "from sklearn.svm import SVC\n",
    "from sklearn.feature_selection import SelectPercentile\n",
    "from sklearn.feature_selection import RFE\n",
    "from sklearn.feature_selection import SelectFromModel\n",
    "from sklearn.feature_selection import RFECV"
   ]
  },
  {
   "cell_type": "markdown",
   "metadata": {},
   "source": [
    "## Loading Dataset"
   ]
  },
  {
   "cell_type": "code",
   "execution_count": null,
   "metadata": {},
   "outputs": [],
   "source": [
    "dataset = pd.read_csv(\"../../../Datasets/car_evaluation.txt\", sep=\",\")\n",
    "dataset.columns = ['buying','maintenance','doors','persons','lug_boot', 'safety', 'target']"
   ]
  },
  {
   "cell_type": "code",
   "execution_count": null,
   "metadata": {},
   "outputs": [],
   "source": [
    "samples_count, features_count = dataset.shape\n",
    "samples_count, features_count"
   ]
  },
  {
   "cell_type": "markdown",
   "metadata": {},
   "source": [
    "## Separating target column from dataset"
   ]
  },
  {
   "cell_type": "code",
   "execution_count": null,
   "metadata": {},
   "outputs": [],
   "source": [
    "target = dataset['target']\n",
    "dataset = dataset.drop('target',axis=1)"
   ]
  },
  {
   "cell_type": "markdown",
   "metadata": {},
   "source": [
    "## One-Hot Encoding of Dataset & Target column"
   ]
  },
  {
   "cell_type": "markdown",
   "metadata": {},
   "source": [
    "### Dataset"
   ]
  },
  {
   "cell_type": "code",
   "execution_count": null,
   "metadata": {},
   "outputs": [],
   "source": [
    "ohe_dataset = preprocessing.OneHotEncoder()\n",
    "ohe_dataset.fit(dataset.values) \n",
    "dataset_encoded = ohe_dataset.transform(dataset.values).toarray()"
   ]
  },
  {
   "cell_type": "markdown",
   "metadata": {},
   "source": [
    "### Target Column"
   ]
  },
  {
   "cell_type": "code",
   "execution_count": null,
   "metadata": {},
   "outputs": [],
   "source": [
    "le_target = preprocessing.LabelEncoder()\n",
    "target_encoded = le_target.fit_transform(target)"
   ]
  },
  {
   "cell_type": "markdown",
   "metadata": {},
   "source": [
    "## Train & Test split"
   ]
  },
  {
   "cell_type": "code",
   "execution_count": null,
   "metadata": {},
   "outputs": [],
   "source": [
    "x = dataset_encoded\n",
    "y = target_encoded\n",
    "train_x, test_x, train_y, test_y = train_test_split(x, y, random_state=0)"
   ]
  },
  {
   "cell_type": "markdown",
   "metadata": {},
   "source": [
    "## Applying SVM"
   ]
  },
  {
   "cell_type": "code",
   "execution_count": null,
   "metadata": {},
   "outputs": [],
   "source": [
    "svm = SVC()\n",
    "svm.fit(train_x, train_y)"
   ]
  },
  {
   "cell_type": "markdown",
   "metadata": {},
   "source": [
    "## Accuracy of SVM"
   ]
  },
  {
   "cell_type": "code",
   "execution_count": null,
   "metadata": {},
   "outputs": [],
   "source": [
    "accuracy = svm.score(test_x,test_y)\n",
    "print(\"%.2f\" % accuracy)"
   ]
  },
  {
   "cell_type": "markdown",
   "metadata": {},
   "source": [
    "# Apply SVM using Features Engineering (Automatic Features Selection)"
   ]
  },
  {
   "cell_type": "markdown",
   "metadata": {},
   "source": [
    "## Univariant Statistics"
   ]
  },
  {
   "cell_type": "code",
   "execution_count": null,
   "metadata": {},
   "outputs": [],
   "source": [
    "select = SelectPercentile(percentile=50)\n",
    "select.fit(train_x, train_y)\n",
    "train_x_selected = select.transform(train_x)\n",
    "test_x_selected = select.transform(test_x)\n",
    "svm_uni_fs = SVC(kernel='linear').fit(train_x_selected, train_y)\n",
    "print(\"%.2f\" % svm_uni_fs.score(test_x_selected, test_y))"
   ]
  },
  {
   "cell_type": "markdown",
   "metadata": {},
   "source": [
    "## Model based features selection"
   ]
  },
  {
   "cell_type": "code",
   "execution_count": null,
   "metadata": {},
   "outputs": [],
   "source": [
    "select.fit(train_x, train_y)\n",
    "train_x_selected = select.transform(train_x)\n",
    "test_x_selected = select.transform(test_x)\n",
    "svm_model_fs = SVC(kernel='linear').fit(train_x_selected, train_y)\n",
    "print(\"%.2f\" % svm_model_fs.score(test_x_selected, test_y))"
   ]
  },
  {
   "cell_type": "markdown",
   "metadata": {},
   "source": [
    "## Iterative feature selection"
   ]
  },
  {
   "cell_type": "code",
   "execution_count": null,
   "metadata": {},
   "outputs": [],
   "source": [
    "select = RFE(SVC(kernel='linear'),n_features_to_select=100)\n",
    "select.fit(train_x, train_y)\n",
    "train_x_selected = select.transform(train_x)\n",
    "test_x_selected = select.transform(test_x)\n",
    "svm_ite_fs = SVC(kernel='linear').fit(train_x_selected, train_y)\n",
    "print(\"%.2f\" % svm_ite_fs.score(test_x_selected, test_y))"
   ]
  },
  {
   "cell_type": "markdown",
   "metadata": {},
   "source": [
    "## Prediction by using input data from user"
   ]
  },
  {
   "cell_type": "code",
   "execution_count": null,
   "metadata": {},
   "outputs": [],
   "source": [
    "buying = input(\"Enter buying category(vhigh,high,med,low)::\")\n",
    "maintenance = input(\"Enter buying maintenance(vhigh,high,med,low)::\")\n",
    "doors = input(\"Enter no of doors(2,3,4,5more)::\")\n",
    "persons = input(\"Enter no of persons(2,4,more)::\")\n",
    "lug_boot = input(\"Enter lug_boot category(small,med,big)::\")\n",
    "safety = input(\"Enter safety category(low,med,high)::\")"
   ]
  },
  {
   "cell_type": "code",
   "execution_count": null,
   "metadata": {},
   "outputs": [],
   "source": [
    "user_sample = [[buying, maintenance, doors, persons, lug_boot, safety]]\n",
    "user_sample_encoded = ohe_dataset.transform(user_sample).toarray()\n",
    "result_encoded = svm.predict(user_sample_encoded)\n",
    "# result_encoded = svm_uni_fs.predict(user_sample_encoded)\n",
    "# result_encoded = svm_model_fs.predict(user_sample_encoded)\n",
    "# result_encoded = svm_ite_fs.predict(user_sample_encoded)\n",
    "result_decoded = le_target.inverse_transform(result_encoded)\n",
    "result = result_decoded[0]"
   ]
  },
  {
   "cell_type": "code",
   "execution_count": null,
   "metadata": {},
   "outputs": [],
   "source": [
    "if result == 'unacc':\n",
    "    print(\"Your car is unaccurate\")\n",
    "elif result == 'acc':\n",
    "    print(\"Your car is accurate\")\n",
    "elif result == 'good':\n",
    "    print(\"Your car is good\")\n",
    "else:\n",
    "    print(\"Your car is very good\")"
   ]
  },
  {
   "cell_type": "code",
   "execution_count": null,
   "metadata": {},
   "outputs": [],
   "source": []
  }
 ],
 "metadata": {
  "colab": {
   "authorship_tag": "ABX9TyOD2/gZgY69JdiiGJVNfu7s",
   "collapsed_sections": [],
   "name": "data_preprocessing_template.ipynb",
   "provenance": [],
   "toc_visible": true
  },
  "kernelspec": {
   "display_name": "Python 3",
   "language": "python",
   "name": "python3"
  },
  "language_info": {
   "codemirror_mode": {
    "name": "ipython",
    "version": 3
   },
   "file_extension": ".py",
   "mimetype": "text/x-python",
   "name": "python",
   "nbconvert_exporter": "python",
   "pygments_lexer": "ipython3",
   "version": "3.7.6"
  }
 },
 "nbformat": 4,
 "nbformat_minor": 1
}
