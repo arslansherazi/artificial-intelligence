{
 "cells": [
  {
   "cell_type": "markdown",
   "metadata": {
    "id": "H0jbEcRSrlps"
   },
   "source": [
    "# Artificial Neural Network - Regression\n",
    "\n",
    "**cycle** (initialize parameters with some weights => Forward Propagation => Compute Error / Loss (Diff between predicted values and actual values) => Adjust Parameters (weights of parameters) / Backward Propagation)"
   ]
  },
  {
   "cell_type": "code",
   "execution_count": 1,
   "metadata": {
    "id": "yOPvB-rOrlpx"
   },
   "outputs": [],
   "source": [
    "import numpy as np\n",
    "import pandas as pd\n",
    "import tensorflow as tf\n",
    "from sklearn.model_selection import train_test_split\n",
    "from sklearn.metrics import confusion_matrix, accuracy_score"
   ]
  },
  {
   "cell_type": "code",
   "execution_count": 2,
   "metadata": {
    "colab": {
     "base_uri": "https://localhost:8080/",
     "height": 35
    },
    "id": "uAuoBMsdsipJ",
    "outputId": "8d799f1a-32bb-4455-c907-d8c06ae1da2a"
   },
   "outputs": [
    {
     "data": {
      "application/vnd.google.colaboratory.intrinsic+json": {
       "type": "string"
      },
      "text/plain": [
       "'2.4.0'"
      ]
     },
     "execution_count": 2,
     "metadata": {
      "tags": []
     },
     "output_type": "execute_result"
    }
   ],
   "source": [
    "tf.__version__"
   ]
  },
  {
   "cell_type": "markdown",
   "metadata": {
    "id": "09XEspMfsnwV"
   },
   "source": [
    "## Data Preprocessing"
   ]
  },
  {
   "cell_type": "markdown",
   "metadata": {
    "id": "zAZUtGaGsqRj"
   },
   "source": [
    "### Loading Dataset\n"
   ]
  },
  {
   "cell_type": "code",
   "execution_count": 6,
   "metadata": {
    "colab": {
     "base_uri": "https://localhost:8080/",
     "height": 204
    },
    "id": "XuBeXfmbsxCI",
    "outputId": "9778be22-87da-4014-9fa2-c3ef0cdb2002"
   },
   "outputs": [
    {
     "data": {
      "text/html": [
       "<div>\n",
       "<style scoped>\n",
       "    .dataframe tbody tr th:only-of-type {\n",
       "        vertical-align: middle;\n",
       "    }\n",
       "\n",
       "    .dataframe tbody tr th {\n",
       "        vertical-align: top;\n",
       "    }\n",
       "\n",
       "    .dataframe thead th {\n",
       "        text-align: right;\n",
       "    }\n",
       "</style>\n",
       "<table border=\"1\" class=\"dataframe\">\n",
       "  <thead>\n",
       "    <tr style=\"text-align: right;\">\n",
       "      <th></th>\n",
       "      <th>Temperature</th>\n",
       "      <th>Pressure</th>\n",
       "      <th>Humidity</th>\n",
       "      <th>Vacuum</th>\n",
       "      <th>Energy</th>\n",
       "    </tr>\n",
       "  </thead>\n",
       "  <tbody>\n",
       "    <tr>\n",
       "      <th>0</th>\n",
       "      <td>14.96</td>\n",
       "      <td>41.76</td>\n",
       "      <td>1024.07</td>\n",
       "      <td>73.17</td>\n",
       "      <td>463.26</td>\n",
       "    </tr>\n",
       "    <tr>\n",
       "      <th>1</th>\n",
       "      <td>25.18</td>\n",
       "      <td>62.96</td>\n",
       "      <td>1020.04</td>\n",
       "      <td>59.08</td>\n",
       "      <td>444.37</td>\n",
       "    </tr>\n",
       "    <tr>\n",
       "      <th>2</th>\n",
       "      <td>5.11</td>\n",
       "      <td>39.40</td>\n",
       "      <td>1012.16</td>\n",
       "      <td>92.14</td>\n",
       "      <td>488.56</td>\n",
       "    </tr>\n",
       "    <tr>\n",
       "      <th>3</th>\n",
       "      <td>20.86</td>\n",
       "      <td>57.32</td>\n",
       "      <td>1010.24</td>\n",
       "      <td>76.64</td>\n",
       "      <td>446.48</td>\n",
       "    </tr>\n",
       "    <tr>\n",
       "      <th>4</th>\n",
       "      <td>10.82</td>\n",
       "      <td>37.50</td>\n",
       "      <td>1009.23</td>\n",
       "      <td>96.62</td>\n",
       "      <td>473.90</td>\n",
       "    </tr>\n",
       "  </tbody>\n",
       "</table>\n",
       "</div>"
      ],
      "text/plain": [
       "   Temperature  Pressure  Humidity  Vacuum  Energy\n",
       "0        14.96     41.76   1024.07   73.17  463.26\n",
       "1        25.18     62.96   1020.04   59.08  444.37\n",
       "2         5.11     39.40   1012.16   92.14  488.56\n",
       "3        20.86     57.32   1010.24   76.64  446.48\n",
       "4        10.82     37.50   1009.23   96.62  473.90"
      ]
     },
     "execution_count": 6,
     "metadata": {
      "tags": []
     },
     "output_type": "execute_result"
    }
   ],
   "source": [
    "columns = ['Temperature', 'Pressure', 'Humidity', 'Vacuum', 'Energy']\n",
    "dataset = pd.read_excel('../../../Datasets/Folds5x2_pp.xlsx', engine='openpyxl')\n",
    "dataset.columns = columns\n",
    "dataset.head()"
   ]
  },
  {
   "cell_type": "code",
   "execution_count": 7,
   "metadata": {
    "colab": {
     "base_uri": "https://localhost:8080/"
    },
    "id": "uwgybYBrtXlW",
    "outputId": "19c445a3-c888-41d5-e3a3-3aeeb2f28fc4"
   },
   "outputs": [
    {
     "data": {
      "text/plain": [
       "(9568, 5)"
      ]
     },
     "execution_count": 7,
     "metadata": {
      "tags": []
     },
     "output_type": "execute_result"
    }
   ],
   "source": [
    "samples_count, features_count = dataset.shape\n",
    "samples_count, features_count"
   ]
  },
  {
   "cell_type": "markdown",
   "metadata": {
    "id": "1bYS0mgatb6l"
   },
   "source": [
    "### Separating target column from dataset\n"
   ]
  },
  {
   "cell_type": "code",
   "execution_count": 8,
   "metadata": {
    "id": "PTE_3wtitZq6"
   },
   "outputs": [],
   "source": [
    "X = dataset.iloc[:, :-1].values\n",
    "y = dataset.iloc[:, -1].values"
   ]
  },
  {
   "cell_type": "markdown",
   "metadata": {
    "id": "YlYIVAEBu53G"
   },
   "source": [
    "## Train & Test split"
   ]
  },
  {
   "cell_type": "code",
   "execution_count": 9,
   "metadata": {
    "id": "dga_51T0u8a4"
   },
   "outputs": [],
   "source": [
    "train_x, test_x, train_y, test_y = train_test_split(X, y, test_size=0.2, random_state=0)"
   ]
  },
  {
   "cell_type": "markdown",
   "metadata": {
    "id": "CPsYP4KdvWjj"
   },
   "source": [
    "## Building the ANN\n",
    "**activation** = activation function\n",
    "relu = rectifier activation function\n",
    "\n",
    "**units** = no of neurons (no rule of thumb to choose neurons)"
   ]
  },
  {
   "cell_type": "markdown",
   "metadata": {
    "id": "5y6F381WvbE1"
   },
   "source": [
    "### Initializing the ANN"
   ]
  },
  {
   "cell_type": "code",
   "execution_count": 10,
   "metadata": {
    "id": "dxEZrQ05vYgc"
   },
   "outputs": [],
   "source": [
    "ann = tf.keras.models.Sequential()"
   ]
  },
  {
   "cell_type": "markdown",
   "metadata": {
    "id": "jDR8Yr1evjxO"
   },
   "source": [
    "### Adding the input layer and the first hidden layer"
   ]
  },
  {
   "cell_type": "code",
   "execution_count": 11,
   "metadata": {
    "id": "6hOKBTOHvkUf"
   },
   "outputs": [],
   "source": [
    "ann.add(tf.keras.layers.Dense(units=6, activation='relu'))"
   ]
  },
  {
   "cell_type": "markdown",
   "metadata": {
    "id": "UOQJRDfUvzdu"
   },
   "source": [
    "### Adding the second hidden layer"
   ]
  },
  {
   "cell_type": "code",
   "execution_count": 12,
   "metadata": {
    "id": "gGbaZPH-vz2n"
   },
   "outputs": [],
   "source": [
    "ann.add(tf.keras.layers.Dense(units=6, activation='relu'))"
   ]
  },
  {
   "cell_type": "markdown",
   "metadata": {
    "id": "mKlKR3tgv2ZS"
   },
   "source": [
    "### Adding the output layer\n"
   ]
  },
  {
   "cell_type": "code",
   "execution_count": 13,
   "metadata": {
    "id": "_K4-BsGMv2x6"
   },
   "outputs": [],
   "source": [
    "ann.add(tf.keras.layers.Dense(units=1))"
   ]
  },
  {
   "cell_type": "markdown",
   "metadata": {
    "id": "hA7mINAowBY-"
   },
   "source": [
    "## Training the ANN"
   ]
  },
  {
   "cell_type": "markdown",
   "metadata": {
    "id": "mUI-5osxwGYo"
   },
   "source": [
    "### Compiling the ANN\n",
    "**optimizer** is used to adjust weights of neurons when there is a difference between actual value and predicted value\n",
    "\n",
    "**loss** is used to find difference between actual value and predicted value\n",
    "\n",
    "**for regression**\n",
    "- it is recommended that to not use any activation function\n",
    "- loss should be **mean_squared_error**\n",
    "\n",
    "**mean_squared_error**\n",
    "sum of squared differences between predictions and actual values"
   ]
  },
  {
   "cell_type": "code",
   "execution_count": 14,
   "metadata": {
    "id": "34gkB-cTwDNb"
   },
   "outputs": [],
   "source": [
    "ann.compile(optimizer='adam', loss='mean_squared_error')"
   ]
  },
  {
   "cell_type": "markdown",
   "metadata": {
    "id": "U_cZtKr1wYx9"
   },
   "source": [
    "### Training the ANN on the training set\n",
    "\n",
    "**batch_size** is used to mention no of predictions comparing to actual results to know the loss at the same time instead of comparing one by one which is a slow process. 32 is the default value and recommended as well\n",
    "\n",
    "**epoch** followingcycle is called epoch"
   ]
  },
  {
   "cell_type": "code",
   "execution_count": 15,
   "metadata": {
    "colab": {
     "base_uri": "https://localhost:8080/"
    },
    "id": "KjqnDcCTwbXW",
    "outputId": "aad4f864-c027-4bfe-cc65-4961b28c8620"
   },
   "outputs": [
    {
     "name": "stdout",
     "output_type": "stream",
     "text": [
      "Epoch 1/100\n",
      "240/240 [==============================] - 1s 941us/step - loss: 112334.2125\n",
      "Epoch 2/100\n",
      "240/240 [==============================] - 0s 896us/step - loss: 1421.8745\n",
      "Epoch 3/100\n",
      "240/240 [==============================] - 0s 879us/step - loss: 512.3102\n",
      "Epoch 4/100\n",
      "240/240 [==============================] - 0s 908us/step - loss: 505.2411\n",
      "Epoch 5/100\n",
      "240/240 [==============================] - 0s 894us/step - loss: 489.5028\n",
      "Epoch 6/100\n",
      "240/240 [==============================] - 0s 896us/step - loss: 481.2259\n",
      "Epoch 7/100\n",
      "240/240 [==============================] - 0s 965us/step - loss: 453.9851\n",
      "Epoch 8/100\n",
      "240/240 [==============================] - 0s 817us/step - loss: 429.4561\n",
      "Epoch 9/100\n",
      "240/240 [==============================] - 0s 817us/step - loss: 395.6998\n",
      "Epoch 10/100\n",
      "240/240 [==============================] - 0s 864us/step - loss: 375.1472\n",
      "Epoch 11/100\n",
      "240/240 [==============================] - 0s 903us/step - loss: 342.0201\n",
      "Epoch 12/100\n",
      "240/240 [==============================] - 0s 921us/step - loss: 315.3876\n",
      "Epoch 13/100\n",
      "240/240 [==============================] - 0s 822us/step - loss: 280.4301\n",
      "Epoch 14/100\n",
      "240/240 [==============================] - 0s 912us/step - loss: 252.4075\n",
      "Epoch 15/100\n",
      "240/240 [==============================] - 0s 986us/step - loss: 218.4733\n",
      "Epoch 16/100\n",
      "240/240 [==============================] - 0s 914us/step - loss: 190.7416\n",
      "Epoch 17/100\n",
      "240/240 [==============================] - 0s 903us/step - loss: 165.1229\n",
      "Epoch 18/100\n",
      "240/240 [==============================] - 0s 881us/step - loss: 135.7813\n",
      "Epoch 19/100\n",
      "240/240 [==============================] - 0s 900us/step - loss: 114.1659\n",
      "Epoch 20/100\n",
      "240/240 [==============================] - 0s 907us/step - loss: 93.5459\n",
      "Epoch 21/100\n",
      "240/240 [==============================] - 0s 891us/step - loss: 75.2430\n",
      "Epoch 22/100\n",
      "240/240 [==============================] - 0s 876us/step - loss: 61.7068\n",
      "Epoch 23/100\n",
      "240/240 [==============================] - 0s 881us/step - loss: 50.2260\n",
      "Epoch 24/100\n",
      "240/240 [==============================] - 0s 994us/step - loss: 41.9872\n",
      "Epoch 25/100\n",
      "240/240 [==============================] - 0s 903us/step - loss: 38.6529\n",
      "Epoch 26/100\n",
      "240/240 [==============================] - 0s 978us/step - loss: 33.9153\n",
      "Epoch 27/100\n",
      "240/240 [==============================] - 0s 959us/step - loss: 32.0526\n",
      "Epoch 28/100\n",
      "240/240 [==============================] - 0s 998us/step - loss: 30.4239\n",
      "Epoch 29/100\n",
      "240/240 [==============================] - 0s 884us/step - loss: 28.8054\n",
      "Epoch 30/100\n",
      "240/240 [==============================] - 0s 958us/step - loss: 28.4748\n",
      "Epoch 31/100\n",
      "240/240 [==============================] - 0s 989us/step - loss: 28.5204\n",
      "Epoch 32/100\n",
      "240/240 [==============================] - 0s 917us/step - loss: 26.0353\n",
      "Epoch 33/100\n",
      "240/240 [==============================] - 0s 937us/step - loss: 28.6166\n",
      "Epoch 34/100\n",
      "240/240 [==============================] - 0s 911us/step - loss: 26.8228\n",
      "Epoch 35/100\n",
      "240/240 [==============================] - 0s 862us/step - loss: 26.8727\n",
      "Epoch 36/100\n",
      "240/240 [==============================] - 0s 872us/step - loss: 26.3403\n",
      "Epoch 37/100\n",
      "240/240 [==============================] - 0s 946us/step - loss: 26.7783\n",
      "Epoch 38/100\n",
      "240/240 [==============================] - 0s 978us/step - loss: 26.0976\n",
      "Epoch 39/100\n",
      "240/240 [==============================] - 0s 969us/step - loss: 27.9611\n",
      "Epoch 40/100\n",
      "240/240 [==============================] - 0s 967us/step - loss: 26.8428\n",
      "Epoch 41/100\n",
      "240/240 [==============================] - 0s 900us/step - loss: 26.7309\n",
      "Epoch 42/100\n",
      "240/240 [==============================] - 0s 893us/step - loss: 26.8698\n",
      "Epoch 43/100\n",
      "240/240 [==============================] - 0s 872us/step - loss: 26.1369\n",
      "Epoch 44/100\n",
      "240/240 [==============================] - 0s 873us/step - loss: 26.6968\n",
      "Epoch 45/100\n",
      "240/240 [==============================] - 0s 878us/step - loss: 27.1602\n",
      "Epoch 46/100\n",
      "240/240 [==============================] - 0s 866us/step - loss: 26.2003\n",
      "Epoch 47/100\n",
      "240/240 [==============================] - 0s 915us/step - loss: 26.7692\n",
      "Epoch 48/100\n",
      "240/240 [==============================] - 0s 923us/step - loss: 26.8476\n",
      "Epoch 49/100\n",
      "240/240 [==============================] - 0s 933us/step - loss: 26.2548\n",
      "Epoch 50/100\n",
      "240/240 [==============================] - 0s 880us/step - loss: 27.1390\n",
      "Epoch 51/100\n",
      "240/240 [==============================] - 0s 893us/step - loss: 27.7060\n",
      "Epoch 52/100\n",
      "240/240 [==============================] - 0s 848us/step - loss: 26.1632\n",
      "Epoch 53/100\n",
      "240/240 [==============================] - 0s 940us/step - loss: 25.9204\n",
      "Epoch 54/100\n",
      "240/240 [==============================] - 0s 882us/step - loss: 26.5830\n",
      "Epoch 55/100\n",
      "240/240 [==============================] - 0s 879us/step - loss: 26.3224\n",
      "Epoch 56/100\n",
      "240/240 [==============================] - 0s 956us/step - loss: 26.4148\n",
      "Epoch 57/100\n",
      "240/240 [==============================] - 0s 982us/step - loss: 27.4870\n",
      "Epoch 58/100\n",
      "240/240 [==============================] - 0s 879us/step - loss: 26.6175\n",
      "Epoch 59/100\n",
      "240/240 [==============================] - 0s 876us/step - loss: 26.3268\n",
      "Epoch 60/100\n",
      "240/240 [==============================] - 0s 961us/step - loss: 25.8404\n",
      "Epoch 61/100\n",
      "240/240 [==============================] - 0s 894us/step - loss: 27.8192\n",
      "Epoch 62/100\n",
      "240/240 [==============================] - 0s 871us/step - loss: 26.6423\n",
      "Epoch 63/100\n",
      "240/240 [==============================] - 0s 906us/step - loss: 26.5057\n",
      "Epoch 64/100\n",
      "240/240 [==============================] - 0s 868us/step - loss: 28.2330\n",
      "Epoch 65/100\n",
      "240/240 [==============================] - 0s 944us/step - loss: 26.7506\n",
      "Epoch 66/100\n",
      "240/240 [==============================] - 0s 948us/step - loss: 26.5533\n",
      "Epoch 67/100\n",
      "240/240 [==============================] - 0s 870us/step - loss: 26.3555\n",
      "Epoch 68/100\n",
      "240/240 [==============================] - 0s 866us/step - loss: 26.5176\n",
      "Epoch 69/100\n",
      "240/240 [==============================] - 0s 833us/step - loss: 27.1830\n",
      "Epoch 70/100\n",
      "240/240 [==============================] - 0s 992us/step - loss: 26.4539\n",
      "Epoch 71/100\n",
      "240/240 [==============================] - 0s 883us/step - loss: 27.4104\n",
      "Epoch 72/100\n",
      "240/240 [==============================] - 0s 891us/step - loss: 26.6860\n",
      "Epoch 73/100\n",
      "240/240 [==============================] - 0s 884us/step - loss: 27.9464\n",
      "Epoch 74/100\n",
      "240/240 [==============================] - 0s 949us/step - loss: 27.1912\n",
      "Epoch 75/100\n",
      "240/240 [==============================] - 0s 922us/step - loss: 26.6804\n",
      "Epoch 76/100\n",
      "240/240 [==============================] - 0s 937us/step - loss: 27.0754\n",
      "Epoch 77/100\n",
      "240/240 [==============================] - 0s 855us/step - loss: 25.6047\n",
      "Epoch 78/100\n",
      "240/240 [==============================] - 0s 927us/step - loss: 26.9280\n",
      "Epoch 79/100\n",
      "240/240 [==============================] - 0s 1ms/step - loss: 26.5513\n",
      "Epoch 80/100\n",
      "240/240 [==============================] - 0s 876us/step - loss: 25.6080\n",
      "Epoch 81/100\n",
      "240/240 [==============================] - 0s 877us/step - loss: 27.2757\n",
      "Epoch 82/100\n",
      "240/240 [==============================] - 0s 921us/step - loss: 28.0316\n",
      "Epoch 83/100\n",
      "240/240 [==============================] - 0s 921us/step - loss: 27.5307\n",
      "Epoch 84/100\n",
      "240/240 [==============================] - 0s 958us/step - loss: 27.4827\n",
      "Epoch 85/100\n",
      "240/240 [==============================] - 0s 985us/step - loss: 26.6659\n",
      "Epoch 86/100\n",
      "240/240 [==============================] - 0s 838us/step - loss: 27.8114\n",
      "Epoch 87/100\n",
      "240/240 [==============================] - 0s 943us/step - loss: 27.4383\n",
      "Epoch 88/100\n",
      "240/240 [==============================] - 0s 983us/step - loss: 26.8987\n",
      "Epoch 89/100\n",
      "240/240 [==============================] - 0s 991us/step - loss: 27.1552\n",
      "Epoch 90/100\n",
      "240/240 [==============================] - 0s 952us/step - loss: 28.4276\n",
      "Epoch 91/100\n",
      "240/240 [==============================] - 0s 939us/step - loss: 27.0992\n",
      "Epoch 92/100\n",
      "240/240 [==============================] - 0s 934us/step - loss: 27.0235\n",
      "Epoch 93/100\n",
      "240/240 [==============================] - 0s 860us/step - loss: 25.4289\n",
      "Epoch 94/100\n",
      "240/240 [==============================] - 0s 903us/step - loss: 27.0800\n",
      "Epoch 95/100\n",
      "240/240 [==============================] - 0s 844us/step - loss: 28.3046\n",
      "Epoch 96/100\n",
      "240/240 [==============================] - 0s 840us/step - loss: 26.4982\n",
      "Epoch 97/100\n",
      "240/240 [==============================] - 0s 971us/step - loss: 26.7496\n",
      "Epoch 98/100\n",
      "240/240 [==============================] - 0s 952us/step - loss: 26.5353\n",
      "Epoch 99/100\n",
      "240/240 [==============================] - 0s 991us/step - loss: 26.6340\n",
      "Epoch 100/100\n",
      "240/240 [==============================] - 0s 944us/step - loss: 26.3974\n"
     ]
    },
    {
     "data": {
      "text/plain": [
       "<tensorflow.python.keras.callbacks.History at 0x7f55738737b8>"
      ]
     },
     "execution_count": 15,
     "metadata": {
      "tags": []
     },
     "output_type": "execute_result"
    }
   ],
   "source": [
    "ann.fit(train_x, train_y, batch_size=32, epochs=100)"
   ]
  },
  {
   "cell_type": "markdown",
   "metadata": {
    "id": "uWrBvP1Swavk"
   },
   "source": [
    "## Prediction by using input data from user"
   ]
  },
  {
   "cell_type": "code",
   "execution_count": 16,
   "metadata": {
    "colab": {
     "base_uri": "https://localhost:8080/"
    },
    "id": "GmtTjnrexzEA",
    "outputId": "03a3f925-cc8e-40ba-b2a5-cacf93a5ced9"
   },
   "outputs": [
    {
     "name": "stdout",
     "output_type": "stream",
     "text": [
      "Enter Temperature::34.23\n",
      "Enter Pressure::23.56\n",
      "Enter Humidity::1234.67\n",
      "Enter Vacuum::45.90\n"
     ]
    }
   ],
   "source": [
    "temperature = input('Enter Temperature::')\n",
    "pressure = input('Enter Pressure::')\n",
    "humidity = input('Enter Humidity::')\n",
    "vacuum = input('Enter Vacuum::')"
   ]
  },
  {
   "cell_type": "code",
   "execution_count": 17,
   "metadata": {
    "id": "e3oW6WkvzMOT"
   },
   "outputs": [],
   "source": [
    "user_sample = [[float(temperature), float(pressure), float(humidity), float(vacuum)]]"
   ]
  },
  {
   "cell_type": "code",
   "execution_count": 18,
   "metadata": {
    "colab": {
     "base_uri": "https://localhost:8080/"
    },
    "id": "ID-llF7rm1LO",
    "outputId": "2282919e-1ef9-4f0d-e34d-6f8d8fa2f8dd"
   },
   "outputs": [
    {
     "name": "stdout",
     "output_type": "stream",
     "text": [
      "Energy: 550.3814697265625\n"
     ]
    }
   ],
   "source": [
    "prediction = ann.predict(user_sample)\n",
    "print('Energy: {}'.format(prediction[0][0]))"
   ]
  }
 ],
 "metadata": {
  "colab": {
   "collapsed_sections": [],
   "name": "regression.ipynb",
   "provenance": [],
   "toc_visible": true
  },
  "kernelspec": {
   "display_name": "Python 3",
   "language": "python",
   "name": "python3"
  },
  "language_info": {
   "codemirror_mode": {
    "name": "ipython",
    "version": 3
   },
   "file_extension": ".py",
   "mimetype": "text/x-python",
   "name": "python",
   "nbconvert_exporter": "python",
   "pygments_lexer": "ipython3",
   "version": "3.8.6"
  }
 },
 "nbformat": 4,
 "nbformat_minor": 1
}
