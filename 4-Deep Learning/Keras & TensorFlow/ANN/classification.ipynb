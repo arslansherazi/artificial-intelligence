{
  "nbformat": 4,
  "nbformat_minor": 0,
  "metadata": {
    "colab": {
      "name": "Copy of classification.ipynb",
      "provenance": [],
      "collapsed_sections": [],
      "toc_visible": true
    },
    "kernelspec": {
      "display_name": "Python 3",
      "language": "python",
      "name": "python3"
    },
    "language_info": {
      "codemirror_mode": {
        "name": "ipython",
        "version": 3
      },
      "file_extension": ".py",
      "mimetype": "text/x-python",
      "name": "python",
      "nbconvert_exporter": "python",
      "pygments_lexer": "ipython3",
      "version": "3.8.6"
    }
  },
  "cells": [
    {
      "cell_type": "markdown",
      "metadata": {
        "id": "H0jbEcRSrlps"
      },
      "source": [
        "# Artificial Neural Network - Classfication"
      ]
    },
    {
      "cell_type": "code",
      "metadata": {
        "id": "yOPvB-rOrlpx"
      },
      "source": [
        "import numpy as np\n",
        "import pandas as pd\n",
        "import tensorflow as tf\n",
        "from sklearn.model_selection import train_test_split\n",
        "from sklearn.compose import ColumnTransformer\n",
        "from sklearn.preprocessing import OneHotEncoder\n",
        "from sklearn.preprocessing import LabelEncoder\n",
        "from sklearn.preprocessing import StandardScaler"
      ],
      "execution_count": null,
      "outputs": []
    },
    {
      "cell_type": "code",
      "metadata": {
        "id": "uAuoBMsdsipJ",
        "outputId": "0b1e8cf4-3719-4671-f3bb-4befc72537e8",
        "colab": {
          "base_uri": "https://localhost:8080/",
          "height": 35
        }
      },
      "source": [
        "tf.__version__"
      ],
      "execution_count": null,
      "outputs": [
        {
          "output_type": "execute_result",
          "data": {
            "application/vnd.google.colaboratory.intrinsic+json": {
              "type": "string"
            },
            "text/plain": [
              "'2.3.0'"
            ]
          },
          "metadata": {
            "tags": []
          },
          "execution_count": 2
        }
      ]
    },
    {
      "cell_type": "markdown",
      "metadata": {
        "id": "09XEspMfsnwV"
      },
      "source": [
        "## Data Preprocessing"
      ]
    },
    {
      "cell_type": "markdown",
      "metadata": {
        "id": "zAZUtGaGsqRj"
      },
      "source": [
        "### Loading Dataset\n"
      ]
    },
    {
      "cell_type": "code",
      "metadata": {
        "id": "XuBeXfmbsxCI",
        "outputId": "9b2fb1ab-f71d-4f38-feca-8326e2ceb870",
        "colab": {
          "base_uri": "https://localhost:8080/",
          "height": 204
        }
      },
      "source": [
        "dataset = pd.read_csv(\"bank_customers_details.csv\", sep=\",\")\n",
        "dataset.head()"
      ],
      "execution_count": null,
      "outputs": [
        {
          "output_type": "execute_result",
          "data": {
            "text/html": [
              "<div>\n",
              "<style scoped>\n",
              "    .dataframe tbody tr th:only-of-type {\n",
              "        vertical-align: middle;\n",
              "    }\n",
              "\n",
              "    .dataframe tbody tr th {\n",
              "        vertical-align: top;\n",
              "    }\n",
              "\n",
              "    .dataframe thead th {\n",
              "        text-align: right;\n",
              "    }\n",
              "</style>\n",
              "<table border=\"1\" class=\"dataframe\">\n",
              "  <thead>\n",
              "    <tr style=\"text-align: right;\">\n",
              "      <th></th>\n",
              "      <th>RowNumber</th>\n",
              "      <th>CustomerId</th>\n",
              "      <th>Surname</th>\n",
              "      <th>CreditScore</th>\n",
              "      <th>Geography</th>\n",
              "      <th>Gender</th>\n",
              "      <th>Age</th>\n",
              "      <th>Tenure</th>\n",
              "      <th>Balance</th>\n",
              "      <th>NumOfProducts</th>\n",
              "      <th>HasCrCard</th>\n",
              "      <th>IsActiveMember</th>\n",
              "      <th>EstimatedSalary</th>\n",
              "      <th>Exited</th>\n",
              "    </tr>\n",
              "  </thead>\n",
              "  <tbody>\n",
              "    <tr>\n",
              "      <th>0</th>\n",
              "      <td>1</td>\n",
              "      <td>15634602</td>\n",
              "      <td>Hargrave</td>\n",
              "      <td>619</td>\n",
              "      <td>France</td>\n",
              "      <td>Female</td>\n",
              "      <td>42</td>\n",
              "      <td>2</td>\n",
              "      <td>0.00</td>\n",
              "      <td>1</td>\n",
              "      <td>1</td>\n",
              "      <td>1</td>\n",
              "      <td>101348.88</td>\n",
              "      <td>1</td>\n",
              "    </tr>\n",
              "    <tr>\n",
              "      <th>1</th>\n",
              "      <td>2</td>\n",
              "      <td>15647311</td>\n",
              "      <td>Hill</td>\n",
              "      <td>608</td>\n",
              "      <td>Spain</td>\n",
              "      <td>Female</td>\n",
              "      <td>41</td>\n",
              "      <td>1</td>\n",
              "      <td>83807.86</td>\n",
              "      <td>1</td>\n",
              "      <td>0</td>\n",
              "      <td>1</td>\n",
              "      <td>112542.58</td>\n",
              "      <td>0</td>\n",
              "    </tr>\n",
              "    <tr>\n",
              "      <th>2</th>\n",
              "      <td>3</td>\n",
              "      <td>15619304</td>\n",
              "      <td>Onio</td>\n",
              "      <td>502</td>\n",
              "      <td>France</td>\n",
              "      <td>Female</td>\n",
              "      <td>42</td>\n",
              "      <td>8</td>\n",
              "      <td>159660.80</td>\n",
              "      <td>3</td>\n",
              "      <td>1</td>\n",
              "      <td>0</td>\n",
              "      <td>113931.57</td>\n",
              "      <td>1</td>\n",
              "    </tr>\n",
              "    <tr>\n",
              "      <th>3</th>\n",
              "      <td>4</td>\n",
              "      <td>15701354</td>\n",
              "      <td>Boni</td>\n",
              "      <td>699</td>\n",
              "      <td>France</td>\n",
              "      <td>Female</td>\n",
              "      <td>39</td>\n",
              "      <td>1</td>\n",
              "      <td>0.00</td>\n",
              "      <td>2</td>\n",
              "      <td>0</td>\n",
              "      <td>0</td>\n",
              "      <td>93826.63</td>\n",
              "      <td>0</td>\n",
              "    </tr>\n",
              "    <tr>\n",
              "      <th>4</th>\n",
              "      <td>5</td>\n",
              "      <td>15737888</td>\n",
              "      <td>Mitchell</td>\n",
              "      <td>850</td>\n",
              "      <td>Spain</td>\n",
              "      <td>Female</td>\n",
              "      <td>43</td>\n",
              "      <td>2</td>\n",
              "      <td>125510.82</td>\n",
              "      <td>1</td>\n",
              "      <td>1</td>\n",
              "      <td>1</td>\n",
              "      <td>79084.10</td>\n",
              "      <td>0</td>\n",
              "    </tr>\n",
              "  </tbody>\n",
              "</table>\n",
              "</div>"
            ],
            "text/plain": [
              "   RowNumber  CustomerId   Surname  ...  IsActiveMember EstimatedSalary Exited\n",
              "0          1    15634602  Hargrave  ...               1       101348.88      1\n",
              "1          2    15647311      Hill  ...               1       112542.58      0\n",
              "2          3    15619304      Onio  ...               0       113931.57      1\n",
              "3          4    15701354      Boni  ...               0        93826.63      0\n",
              "4          5    15737888  Mitchell  ...               1        79084.10      0\n",
              "\n",
              "[5 rows x 14 columns]"
            ]
          },
          "metadata": {
            "tags": []
          },
          "execution_count": 3
        }
      ]
    },
    {
      "cell_type": "code",
      "metadata": {
        "id": "uwgybYBrtXlW",
        "outputId": "c31b2c7c-7839-4eb8-b1d6-d315936a55c4",
        "colab": {
          "base_uri": "https://localhost:8080/"
        }
      },
      "source": [
        "samples_count, features_count = dataset.shape\n",
        "samples_count, features_count"
      ],
      "execution_count": null,
      "outputs": [
        {
          "output_type": "execute_result",
          "data": {
            "text/plain": [
              "(10000, 14)"
            ]
          },
          "metadata": {
            "tags": []
          },
          "execution_count": 4
        }
      ]
    },
    {
      "cell_type": "markdown",
      "metadata": {
        "id": "1bYS0mgatb6l"
      },
      "source": [
        "### Separating target column from dataset\n"
      ]
    },
    {
      "cell_type": "code",
      "metadata": {
        "id": "PTE_3wtitZq6",
        "outputId": "0172688e-b113-4c06-89d5-aa4c73c4f5c7",
        "colab": {
          "base_uri": "https://localhost:8080/"
        }
      },
      "source": [
        "X = dataset.iloc[:, 3:-1].values # first three columns are useless so discard them\n",
        "y = dataset.iloc[:, -1].values"
      ],
      "execution_count": null,
      "outputs": [
        {
          "output_type": "stream",
          "text": [
            "[619 'France' 'Female' 42 2 0.0 1 1 1 101348.88]\n"
          ],
          "name": "stdout"
        }
      ]
    },
    {
      "cell_type": "markdown",
      "metadata": {
        "id": "C_GtrTy6tJ9w"
      },
      "source": [
        "### Encoding categorical data"
      ]
    },
    {
      "cell_type": "markdown",
      "metadata": {
        "id": "lm-0_KMTugCb"
      },
      "source": [
        "#### Label Encoding the Gender Column"
      ]
    },
    {
      "cell_type": "code",
      "metadata": {
        "id": "X60AWhyBtM0K"
      },
      "source": [
        "le = LabelEncoder()\n",
        "X[:, 2] = le.fit_transform(X[:, 2])"
      ],
      "execution_count": null,
      "outputs": []
    },
    {
      "cell_type": "markdown",
      "metadata": {
        "id": "QtsyLxQ5uhBy"
      },
      "source": [
        "#### One Hot Encoding Geography column"
      ]
    },
    {
      "cell_type": "code",
      "metadata": {
        "id": "SgLogzfaunl6"
      },
      "source": [
        "ct = ColumnTransformer(transformers=[('encoder', OneHotEncoder(), [1])], remainder='passthrough')\n",
        "X = np.array(ct.fit_transform(X))"
      ],
      "execution_count": null,
      "outputs": []
    },
    {
      "cell_type": "markdown",
      "metadata": {
        "id": "YlYIVAEBu53G"
      },
      "source": [
        "## Train & Test split"
      ]
    },
    {
      "cell_type": "code",
      "metadata": {
        "id": "dga_51T0u8a4"
      },
      "source": [
        "train_x, test_x, train_y, test_y = train_test_split(X, y, test_size=0.2, random_state=0)"
      ],
      "execution_count": null,
      "outputs": []
    },
    {
      "cell_type": "markdown",
      "metadata": {
        "id": "FhRufbxovJna"
      },
      "source": [
        "## Feature Scaling"
      ]
    },
    {
      "cell_type": "code",
      "metadata": {
        "id": "0NDgVpKgvKXl"
      },
      "source": [
        "sc = StandardScaler()\n",
        "train_x = sc.fit_transform(train_x)\n",
        "test_x = sc.transform(test_x)"
      ],
      "execution_count": null,
      "outputs": []
    },
    {
      "cell_type": "markdown",
      "metadata": {
        "id": "CPsYP4KdvWjj"
      },
      "source": [
        "## Building the ANN"
      ]
    },
    {
      "cell_type": "markdown",
      "metadata": {
        "id": "5y6F381WvbE1"
      },
      "source": [
        "### Initializing the ANN"
      ]
    },
    {
      "cell_type": "code",
      "metadata": {
        "id": "dxEZrQ05vYgc"
      },
      "source": [
        "ann = tf.keras.models.Sequential()"
      ],
      "execution_count": null,
      "outputs": []
    },
    {
      "cell_type": "markdown",
      "metadata": {
        "id": "jDR8Yr1evjxO"
      },
      "source": [
        "### Adding the input layer and the first hidden layer"
      ]
    },
    {
      "cell_type": "code",
      "metadata": {
        "id": "6hOKBTOHvkUf"
      },
      "source": [
        "ann.add(tf.keras.layers.Dense(units=6, activation='relu'))"
      ],
      "execution_count": null,
      "outputs": []
    },
    {
      "cell_type": "markdown",
      "metadata": {
        "id": "UOQJRDfUvzdu"
      },
      "source": [
        "### Adding the second hidden layer"
      ]
    },
    {
      "cell_type": "code",
      "metadata": {
        "id": "gGbaZPH-vz2n"
      },
      "source": [
        "ann.add(tf.keras.layers.Dense(units=6, activation='relu'))"
      ],
      "execution_count": null,
      "outputs": []
    },
    {
      "cell_type": "markdown",
      "metadata": {
        "id": "mKlKR3tgv2ZS"
      },
      "source": [
        "### Adding the output layer\n"
      ]
    },
    {
      "cell_type": "code",
      "metadata": {
        "id": "_K4-BsGMv2x6"
      },
      "source": [
        "ann.add(tf.keras.layers.Dense(units=1, activation='sigmoid'))"
      ],
      "execution_count": null,
      "outputs": []
    },
    {
      "cell_type": "markdown",
      "metadata": {
        "id": "hA7mINAowBY-"
      },
      "source": [
        "## Training the ANN"
      ]
    },
    {
      "cell_type": "markdown",
      "metadata": {
        "id": "mUI-5osxwGYo"
      },
      "source": [
        "### Compiling the ANN"
      ]
    },
    {
      "cell_type": "code",
      "metadata": {
        "id": "34gkB-cTwDNb"
      },
      "source": [
        "ann.compile(optimizer='adam', loss='binary_crossentropy', metrics=['accuracy'])"
      ],
      "execution_count": null,
      "outputs": []
    },
    {
      "cell_type": "markdown",
      "metadata": {
        "id": "U_cZtKr1wYx9"
      },
      "source": [
        "### Training the ANN on the training set"
      ]
    },
    {
      "cell_type": "code",
      "metadata": {
        "id": "KjqnDcCTwbXW",
        "outputId": "622a89cc-bb50-44bb-c1a3-bb9be0569602",
        "colab": {
          "base_uri": "https://localhost:8080/"
        }
      },
      "source": [
        "ann.fit(train_x, train_y, batch_size=32, epochs=100)"
      ],
      "execution_count": null,
      "outputs": [
        {
          "output_type": "stream",
          "text": [
            "Epoch 1/100\n",
            "250/250 [==============================] - 0s 931us/step - loss: 0.6055 - accuracy: 0.7196\n",
            "Epoch 2/100\n",
            "250/250 [==============================] - 0s 881us/step - loss: 0.4874 - accuracy: 0.7979\n",
            "Epoch 3/100\n",
            "250/250 [==============================] - 0s 912us/step - loss: 0.4416 - accuracy: 0.8119\n",
            "Epoch 4/100\n",
            "250/250 [==============================] - 0s 912us/step - loss: 0.4272 - accuracy: 0.8166\n",
            "Epoch 5/100\n",
            "250/250 [==============================] - 0s 873us/step - loss: 0.4202 - accuracy: 0.8214\n",
            "Epoch 6/100\n",
            "250/250 [==============================] - 0s 901us/step - loss: 0.4160 - accuracy: 0.8235\n",
            "Epoch 7/100\n",
            "250/250 [==============================] - 0s 914us/step - loss: 0.4122 - accuracy: 0.8266\n",
            "Epoch 8/100\n",
            "250/250 [==============================] - 0s 872us/step - loss: 0.4081 - accuracy: 0.8282\n",
            "Epoch 9/100\n",
            "250/250 [==============================] - 0s 917us/step - loss: 0.4040 - accuracy: 0.8306\n",
            "Epoch 10/100\n",
            "250/250 [==============================] - 0s 867us/step - loss: 0.3990 - accuracy: 0.8303\n",
            "Epoch 11/100\n",
            "250/250 [==============================] - 0s 904us/step - loss: 0.3937 - accuracy: 0.8316\n",
            "Epoch 12/100\n",
            "250/250 [==============================] - 0s 919us/step - loss: 0.3872 - accuracy: 0.8345\n",
            "Epoch 13/100\n",
            "250/250 [==============================] - 0s 877us/step - loss: 0.3813 - accuracy: 0.8430\n",
            "Epoch 14/100\n",
            "250/250 [==============================] - 0s 922us/step - loss: 0.3747 - accuracy: 0.8482\n",
            "Epoch 15/100\n",
            "250/250 [==============================] - 0s 897us/step - loss: 0.3685 - accuracy: 0.8528\n",
            "Epoch 16/100\n",
            "250/250 [==============================] - 0s 904us/step - loss: 0.3629 - accuracy: 0.8540\n",
            "Epoch 17/100\n",
            "250/250 [==============================] - 0s 972us/step - loss: 0.3583 - accuracy: 0.8546\n",
            "Epoch 18/100\n",
            "250/250 [==============================] - 0s 1ms/step - loss: 0.3554 - accuracy: 0.8550\n",
            "Epoch 19/100\n",
            "250/250 [==============================] - 0s 965us/step - loss: 0.3524 - accuracy: 0.8570\n",
            "Epoch 20/100\n",
            "250/250 [==============================] - 0s 915us/step - loss: 0.3504 - accuracy: 0.8560\n",
            "Epoch 21/100\n",
            "250/250 [==============================] - 0s 894us/step - loss: 0.3484 - accuracy: 0.8561\n",
            "Epoch 22/100\n",
            "250/250 [==============================] - 0s 910us/step - loss: 0.3473 - accuracy: 0.8570\n",
            "Epoch 23/100\n",
            "250/250 [==============================] - 0s 932us/step - loss: 0.3464 - accuracy: 0.8574\n",
            "Epoch 24/100\n",
            "250/250 [==============================] - 0s 924us/step - loss: 0.3452 - accuracy: 0.8601\n",
            "Epoch 25/100\n",
            "250/250 [==============================] - 0s 897us/step - loss: 0.3444 - accuracy: 0.8597\n",
            "Epoch 26/100\n",
            "250/250 [==============================] - 0s 923us/step - loss: 0.3435 - accuracy: 0.8591\n",
            "Epoch 27/100\n",
            "250/250 [==============================] - 0s 909us/step - loss: 0.3431 - accuracy: 0.8608\n",
            "Epoch 28/100\n",
            "250/250 [==============================] - 0s 880us/step - loss: 0.3421 - accuracy: 0.8602\n",
            "Epoch 29/100\n",
            "250/250 [==============================] - 0s 909us/step - loss: 0.3414 - accuracy: 0.8597\n",
            "Epoch 30/100\n",
            "250/250 [==============================] - 0s 908us/step - loss: 0.3409 - accuracy: 0.8599\n",
            "Epoch 31/100\n",
            "250/250 [==============================] - 0s 888us/step - loss: 0.3408 - accuracy: 0.8611\n",
            "Epoch 32/100\n",
            "250/250 [==============================] - 0s 883us/step - loss: 0.3404 - accuracy: 0.8605\n",
            "Epoch 33/100\n",
            "250/250 [==============================] - 0s 944us/step - loss: 0.3397 - accuracy: 0.8616\n",
            "Epoch 34/100\n",
            "250/250 [==============================] - 0s 900us/step - loss: 0.3400 - accuracy: 0.8621\n",
            "Epoch 35/100\n",
            "250/250 [==============================] - 0s 904us/step - loss: 0.3389 - accuracy: 0.8604\n",
            "Epoch 36/100\n",
            "250/250 [==============================] - 0s 1ms/step - loss: 0.3388 - accuracy: 0.8621\n",
            "Epoch 37/100\n",
            "250/250 [==============================] - 0s 913us/step - loss: 0.3386 - accuracy: 0.8637\n",
            "Epoch 38/100\n",
            "250/250 [==============================] - 0s 934us/step - loss: 0.3386 - accuracy: 0.8619\n",
            "Epoch 39/100\n",
            "250/250 [==============================] - 0s 877us/step - loss: 0.3379 - accuracy: 0.8633\n",
            "Epoch 40/100\n",
            "250/250 [==============================] - 0s 1ms/step - loss: 0.3376 - accuracy: 0.8625\n",
            "Epoch 41/100\n",
            "250/250 [==============================] - 0s 878us/step - loss: 0.3375 - accuracy: 0.8625\n",
            "Epoch 42/100\n",
            "250/250 [==============================] - 0s 948us/step - loss: 0.3374 - accuracy: 0.8633\n",
            "Epoch 43/100\n",
            "250/250 [==============================] - 0s 927us/step - loss: 0.3369 - accuracy: 0.8629\n",
            "Epoch 44/100\n",
            "250/250 [==============================] - 0s 882us/step - loss: 0.3366 - accuracy: 0.8630\n",
            "Epoch 45/100\n",
            "250/250 [==============================] - 0s 928us/step - loss: 0.3368 - accuracy: 0.8634\n",
            "Epoch 46/100\n",
            "250/250 [==============================] - 0s 951us/step - loss: 0.3360 - accuracy: 0.8629\n",
            "Epoch 47/100\n",
            "250/250 [==============================] - 0s 1ms/step - loss: 0.3352 - accuracy: 0.8637\n",
            "Epoch 48/100\n",
            "250/250 [==============================] - 0s 947us/step - loss: 0.3358 - accuracy: 0.8636\n",
            "Epoch 49/100\n",
            "250/250 [==============================] - 0s 918us/step - loss: 0.3352 - accuracy: 0.8640\n",
            "Epoch 50/100\n",
            "250/250 [==============================] - 0s 925us/step - loss: 0.3348 - accuracy: 0.8627\n",
            "Epoch 51/100\n",
            "250/250 [==============================] - 0s 926us/step - loss: 0.3350 - accuracy: 0.8644\n",
            "Epoch 52/100\n",
            "250/250 [==============================] - 0s 917us/step - loss: 0.3348 - accuracy: 0.8633\n",
            "Epoch 53/100\n",
            "250/250 [==============================] - 0s 889us/step - loss: 0.3345 - accuracy: 0.8612\n",
            "Epoch 54/100\n",
            "250/250 [==============================] - 0s 920us/step - loss: 0.3344 - accuracy: 0.8634\n",
            "Epoch 55/100\n",
            "250/250 [==============================] - 0s 897us/step - loss: 0.3338 - accuracy: 0.8631\n",
            "Epoch 56/100\n",
            "250/250 [==============================] - 0s 881us/step - loss: 0.3338 - accuracy: 0.8634\n",
            "Epoch 57/100\n",
            "250/250 [==============================] - 0s 974us/step - loss: 0.3335 - accuracy: 0.8624\n",
            "Epoch 58/100\n",
            "250/250 [==============================] - 0s 910us/step - loss: 0.3333 - accuracy: 0.8627\n",
            "Epoch 59/100\n",
            "250/250 [==============================] - 0s 917us/step - loss: 0.3335 - accuracy: 0.8629\n",
            "Epoch 60/100\n",
            "250/250 [==============================] - 0s 896us/step - loss: 0.3333 - accuracy: 0.8644\n",
            "Epoch 61/100\n",
            "250/250 [==============================] - 0s 894us/step - loss: 0.3331 - accuracy: 0.8633\n",
            "Epoch 62/100\n",
            "250/250 [==============================] - 0s 931us/step - loss: 0.3329 - accuracy: 0.8625\n",
            "Epoch 63/100\n",
            "250/250 [==============================] - 0s 966us/step - loss: 0.3323 - accuracy: 0.8641\n",
            "Epoch 64/100\n",
            "250/250 [==============================] - 0s 978us/step - loss: 0.3323 - accuracy: 0.8640\n",
            "Epoch 65/100\n",
            "250/250 [==============================] - 0s 980us/step - loss: 0.3323 - accuracy: 0.8639\n",
            "Epoch 66/100\n",
            "250/250 [==============================] - 0s 892us/step - loss: 0.3320 - accuracy: 0.8621\n",
            "Epoch 67/100\n",
            "250/250 [==============================] - 0s 1ms/step - loss: 0.3320 - accuracy: 0.8639\n",
            "Epoch 68/100\n",
            "250/250 [==============================] - 0s 891us/step - loss: 0.3320 - accuracy: 0.8633\n",
            "Epoch 69/100\n",
            "250/250 [==============================] - 0s 930us/step - loss: 0.3317 - accuracy: 0.8633\n",
            "Epoch 70/100\n",
            "250/250 [==============================] - 0s 905us/step - loss: 0.3316 - accuracy: 0.8625\n",
            "Epoch 71/100\n",
            "250/250 [==============================] - 0s 941us/step - loss: 0.3318 - accuracy: 0.8640\n",
            "Epoch 72/100\n",
            "250/250 [==============================] - 0s 978us/step - loss: 0.3314 - accuracy: 0.8630\n",
            "Epoch 73/100\n",
            "250/250 [==============================] - 0s 898us/step - loss: 0.3318 - accuracy: 0.8621\n",
            "Epoch 74/100\n",
            "250/250 [==============================] - 0s 905us/step - loss: 0.3314 - accuracy: 0.8648\n",
            "Epoch 75/100\n",
            "250/250 [==============================] - 0s 1ms/step - loss: 0.3319 - accuracy: 0.8643\n",
            "Epoch 76/100\n",
            "250/250 [==============================] - 0s 934us/step - loss: 0.3313 - accuracy: 0.8641\n",
            "Epoch 77/100\n",
            "250/250 [==============================] - 0s 911us/step - loss: 0.3313 - accuracy: 0.8648\n",
            "Epoch 78/100\n",
            "250/250 [==============================] - 0s 928us/step - loss: 0.3313 - accuracy: 0.8641\n",
            "Epoch 79/100\n",
            "250/250 [==============================] - 0s 944us/step - loss: 0.3315 - accuracy: 0.8634\n",
            "Epoch 80/100\n",
            "250/250 [==============================] - 0s 937us/step - loss: 0.3313 - accuracy: 0.8631\n",
            "Epoch 81/100\n",
            "250/250 [==============================] - 0s 896us/step - loss: 0.3312 - accuracy: 0.8637\n",
            "Epoch 82/100\n",
            "250/250 [==============================] - 0s 923us/step - loss: 0.3309 - accuracy: 0.8627\n",
            "Epoch 83/100\n",
            "250/250 [==============================] - 0s 935us/step - loss: 0.3311 - accuracy: 0.8634\n",
            "Epoch 84/100\n",
            "250/250 [==============================] - 0s 923us/step - loss: 0.3310 - accuracy: 0.8634\n",
            "Epoch 85/100\n",
            "250/250 [==============================] - 0s 914us/step - loss: 0.3308 - accuracy: 0.8635\n",
            "Epoch 86/100\n",
            "250/250 [==============================] - 0s 940us/step - loss: 0.3311 - accuracy: 0.8626\n",
            "Epoch 87/100\n",
            "250/250 [==============================] - 0s 981us/step - loss: 0.3311 - accuracy: 0.8636\n",
            "Epoch 88/100\n",
            "250/250 [==============================] - 0s 917us/step - loss: 0.3304 - accuracy: 0.8629\n",
            "Epoch 89/100\n",
            "250/250 [==============================] - 0s 887us/step - loss: 0.3308 - accuracy: 0.8633\n",
            "Epoch 90/100\n",
            "250/250 [==============================] - 0s 961us/step - loss: 0.3305 - accuracy: 0.8641\n",
            "Epoch 91/100\n",
            "250/250 [==============================] - 0s 916us/step - loss: 0.3307 - accuracy: 0.8627\n",
            "Epoch 92/100\n",
            "250/250 [==============================] - 0s 890us/step - loss: 0.3304 - accuracy: 0.8631\n",
            "Epoch 93/100\n",
            "250/250 [==============================] - 0s 976us/step - loss: 0.3306 - accuracy: 0.8648\n",
            "Epoch 94/100\n",
            "250/250 [==============================] - 0s 885us/step - loss: 0.3310 - accuracy: 0.8626\n",
            "Epoch 95/100\n",
            "250/250 [==============================] - 0s 913us/step - loss: 0.3307 - accuracy: 0.8633\n",
            "Epoch 96/100\n",
            "250/250 [==============================] - 0s 986us/step - loss: 0.3301 - accuracy: 0.8621\n",
            "Epoch 97/100\n",
            "250/250 [==============================] - 0s 904us/step - loss: 0.3302 - accuracy: 0.8619\n",
            "Epoch 98/100\n",
            "250/250 [==============================] - 0s 880us/step - loss: 0.3296 - accuracy: 0.8626\n",
            "Epoch 99/100\n",
            "250/250 [==============================] - 0s 945us/step - loss: 0.3303 - accuracy: 0.8648\n",
            "Epoch 100/100\n",
            "250/250 [==============================] - 0s 879us/step - loss: 0.3299 - accuracy: 0.8636\n"
          ],
          "name": "stdout"
        },
        {
          "output_type": "execute_result",
          "data": {
            "text/plain": [
              "<tensorflow.python.keras.callbacks.History at 0x7f9b4085c550>"
            ]
          },
          "metadata": {
            "tags": []
          },
          "execution_count": 41
        }
      ]
    },
    {
      "cell_type": "markdown",
      "metadata": {
        "id": "uWrBvP1Swavk"
      },
      "source": [
        "## Prediction by using input data from user"
      ]
    },
    {
      "cell_type": "code",
      "metadata": {
        "id": "GmtTjnrexzEA",
        "outputId": "6b5f8034-87b1-4c6d-e27e-84212727155e",
        "colab": {
          "base_uri": "https://localhost:8080/"
        }
      },
      "source": [
        "credit_score = input('Credit score::')\n",
        "geography = input('Geography::')\n",
        "gender = input('Gender::')\n",
        "age = input('Age::')\n",
        "tenure = input('Tenure::')\n",
        "balance = input('Balance::')\n",
        "no_of_products = input('No of products::')\n",
        "has_credit_card = input('Has credit card::')\n",
        "is_active_member = input('Is active member?::')\n",
        "estimated_salary = input('Estimated salary::')\n"
      ],
      "execution_count": null,
      "outputs": [
        {
          "output_type": "stream",
          "text": [
            "Credit score::720\n",
            "Geography::France\n",
            "Gender::Male\n",
            "Age::23\n",
            "Tenure::4\n",
            "Balance::84000\n",
            "No of products::4\n",
            "Has credit card::1\n",
            "Is active member?::1\n",
            "Estimated salary::45000\n"
          ],
          "name": "stdout"
        }
      ]
    },
    {
      "cell_type": "code",
      "metadata": {
        "id": "e3oW6WkvzMOT",
        "outputId": "29b5d146-b55f-4634-f233-25f2376ae9d9",
        "colab": {
          "base_uri": "https://localhost:8080/",
          "height": 198
        }
      },
      "source": [
        "user_sample = [[credit_score, geography, gender, age, tenure, balance, no_of_products, has_credit_card, is_active_member, estimated_salary]]\n",
        "user_sample[:, 2] = le.transform(user_sample[:, 2])\n",
        "user_sample = np.array(ct.transform(user_sample))"
      ],
      "execution_count": null,
      "outputs": [
        {
          "output_type": "error",
          "ename": "TypeError",
          "evalue": "ignored",
          "traceback": [
            "\u001b[0;31m---------------------------------------------------------------------------\u001b[0m",
            "\u001b[0;31mTypeError\u001b[0m                                 Traceback (most recent call last)",
            "\u001b[0;32m<ipython-input-51-5ea3d11a0a2b>\u001b[0m in \u001b[0;36m<module>\u001b[0;34m()\u001b[0m\n\u001b[1;32m      1\u001b[0m \u001b[0muser_sample\u001b[0m \u001b[0;34m=\u001b[0m \u001b[0;34m[\u001b[0m\u001b[0;34m[\u001b[0m\u001b[0mcredit_score\u001b[0m\u001b[0;34m,\u001b[0m \u001b[0mgeography\u001b[0m\u001b[0;34m,\u001b[0m \u001b[0mgender\u001b[0m\u001b[0;34m,\u001b[0m \u001b[0mage\u001b[0m\u001b[0;34m,\u001b[0m \u001b[0mtenure\u001b[0m\u001b[0;34m,\u001b[0m \u001b[0mbalance\u001b[0m\u001b[0;34m,\u001b[0m \u001b[0mno_of_products\u001b[0m\u001b[0;34m,\u001b[0m \u001b[0mhas_credit_card\u001b[0m\u001b[0;34m,\u001b[0m \u001b[0mis_active_member\u001b[0m\u001b[0;34m,\u001b[0m \u001b[0mestimated_salary\u001b[0m\u001b[0;34m]\u001b[0m\u001b[0;34m]\u001b[0m\u001b[0;34m\u001b[0m\u001b[0;34m\u001b[0m\u001b[0m\n\u001b[0;32m----> 2\u001b[0;31m \u001b[0muser_sample\u001b[0m\u001b[0;34m[\u001b[0m\u001b[0;34m:\u001b[0m\u001b[0;34m,\u001b[0m \u001b[0;36m2\u001b[0m\u001b[0;34m]\u001b[0m \u001b[0;34m=\u001b[0m \u001b[0mle\u001b[0m\u001b[0;34m.\u001b[0m\u001b[0mtransform\u001b[0m\u001b[0;34m(\u001b[0m\u001b[0muser_sample\u001b[0m\u001b[0;34m[\u001b[0m\u001b[0;34m:\u001b[0m\u001b[0;34m,\u001b[0m \u001b[0;36m2\u001b[0m\u001b[0;34m]\u001b[0m\u001b[0;34m)\u001b[0m\u001b[0;34m\u001b[0m\u001b[0;34m\u001b[0m\u001b[0m\n\u001b[0m\u001b[1;32m      3\u001b[0m \u001b[0muser_sample\u001b[0m \u001b[0;34m=\u001b[0m \u001b[0mnp\u001b[0m\u001b[0;34m.\u001b[0m\u001b[0marray\u001b[0m\u001b[0;34m(\u001b[0m\u001b[0mct\u001b[0m\u001b[0;34m.\u001b[0m\u001b[0mtransform\u001b[0m\u001b[0;34m(\u001b[0m\u001b[0muser_sample\u001b[0m\u001b[0;34m)\u001b[0m\u001b[0;34m)\u001b[0m\u001b[0;34m\u001b[0m\u001b[0;34m\u001b[0m\u001b[0m\n",
            "\u001b[0;31mTypeError\u001b[0m: list indices must be integers or slices, not tuple"
          ]
        }
      ]
    }
  ]
}