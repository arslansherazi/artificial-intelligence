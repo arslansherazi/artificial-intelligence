{
 "cells": [
  {
   "cell_type": "markdown",
   "metadata": {},
   "source": [
    "# Sorting NumPy Arrays"
   ]
  },
  {
   "cell_type": "code",
   "execution_count": 2,
   "metadata": {
    "collapsed": true
   },
   "outputs": [],
   "source": [
    "# Imports required but not shown in the video lecture.\n",
    "import numpy\n",
    "\n",
    "from numpy import argsort, array, linspace, searchsorted, sort\n",
    "from numpy.random import rand"
   ]
  },
  {
   "cell_type": "code",
   "execution_count": null,
   "metadata": {
    "collapsed": false
   },
   "outputs": [],
   "source": [
    "print numpy.__version__"
   ]
  },
  {
   "cell_type": "markdown",
   "metadata": {},
   "source": [
    "This workbook looks at the various sorting methods form NumPy arrays.  We'll concentrate on sorting numeric (or scalar arrays) and leave structured arrays to a separate discussion. There are several sorting tools to be aware of.  The primary functions to be aware of are [`sort`](http://docs.scipy.org/doc/numpy/reference/generated/numpy.sort.html#numpy.sort), [`argsort`](http://docs.scipy.org/doc/numpy/reference/generated/numpy.argsort.html#numpy.argsort), and [`searchsorted`](http://docs.scipy.org/doc/numpy/reference/generated/numpy.searchsorted.html#numpy.searchsorted).  Their are also method versions of each of these on NumPy arrays.  The [`sort`](http://docs.scipy.org/doc/numpy/reference/generated/numpy.ndarray.sort.html?highlight=sort#numpy.ndarray.sort) method is useful for inplace sorting of array values.\n",
    "\n",
    "Briefly, `sort` is useful for ordering the values of an array, `argsort` is useful for ordering the indices that would make an arrays values sorted, and `searchsorted` is used to find where values in one array would fall within another sorted array.  We'll show examples of each. "
   ]
  },
  {
   "cell_type": "markdown",
   "metadata": {},
   "source": [
    "## sort and argsort"
   ]
  },
  {
   "cell_type": "code",
   "execution_count": null,
   "metadata": {
    "collapsed": false
   },
   "outputs": [],
   "source": [
    "# We'll start with a couple of related arrays.  The first has the \n",
    "# names of several children, and the second has their weights.\n",
    "names = array(['bob', 'sue', 'jan', 'ed'])\n",
    "weights = array([ 20.8,  93.2,  53.4, 61.8])"
   ]
  },
  {
   "cell_type": "code",
   "execution_count": null,
   "metadata": {
    "collapsed": false
   },
   "outputs": [],
   "source": [
    "# Return a new array with weights in order.\n",
    "sort(weights)"
   ]
  },
  {
   "cell_type": "code",
   "execution_count": null,
   "metadata": {
    "collapsed": false
   },
   "outputs": [],
   "source": [
    "# Use argsort to get the sorted indices order.\n",
    "ordered_indices = argsort(weights)\n",
    "ordered_indices"
   ]
  },
  {
   "cell_type": "code",
   "execution_count": null,
   "metadata": {
    "collapsed": false
   },
   "outputs": [],
   "source": [
    "# You can use fancy indexing to access the values of a in order.\n",
    "weights[ordered_indices]"
   ]
  },
  {
   "cell_type": "code",
   "execution_count": null,
   "metadata": {
    "collapsed": false
   },
   "outputs": [],
   "source": [
    "# And, you can use ordered_indices to order the children's names \n",
    "# in ascending order of weight.  This is a *very* useful feature.\n",
    "names[ordered_indices]"
   ]
  },
  {
   "cell_type": "code",
   "execution_count": null,
   "metadata": {
    "collapsed": false
   },
   "outputs": [],
   "source": [
    "# Sort a 'inplace' using the sort method\n",
    "a = array([2.3, 1.2, 4.5, 3.1])\n",
    "a.sort()\n",
    "a"
   ]
  },
  {
   "cell_type": "code",
   "execution_count": 3,
   "metadata": {
    "collapsed": false
   },
   "outputs": [
    {
     "data": {
      "text/plain": [
       "array([[ 0.1,  0.2,  0.5],\n",
       "       [ 0.3,  0.4,  0.8],\n",
       "       [ 0.6,  0.7,  0.9]])"
      ]
     },
     "execution_count": 3,
     "metadata": {},
     "output_type": "execute_result"
    }
   ],
   "source": [
    "# Let's look at a 2D array.  By default each of the rows is independently sorted.\n",
    "a = array([[.2, .1, .5],\n",
    "           [.4, .8, .3],\n",
    "           [.9, .6, .7]])\n",
    "sort(a)"
   ]
  },
  {
   "cell_type": "code",
   "execution_count": 4,
   "metadata": {
    "collapsed": false
   },
   "outputs": [
    {
     "data": {
      "text/plain": [
       "array([[ 0.2,  0.1,  0.3],\n",
       "       [ 0.4,  0.6,  0.5],\n",
       "       [ 0.9,  0.8,  0.7]])"
      ]
     },
     "execution_count": 4,
     "metadata": {},
     "output_type": "execute_result"
    }
   ],
   "source": [
    "# Or, you can have the columns independently sorted.\n",
    "sort(a, axis=0)"
   ]
  },
  {
   "cell_type": "code",
   "execution_count": null,
   "metadata": {
    "collapsed": false
   },
   "outputs": [],
   "source": [
    "# argsort has the same behavior.  Here each column the sorted indices in it.\n",
    "argsort(a, axis=0)"
   ]
  },
  {
   "cell_type": "markdown",
   "metadata": {},
   "source": [
    "## searchsorted"
   ]
  },
  {
   "cell_type": "markdown",
   "metadata": {},
   "source": [
    "`searchsorted(sorted, values)` is used for finding where items in values would fall in the `sorted` array.  Although, it is not the fastest approach, it could be used for histogramming. "
   ]
  },
  {
   "cell_type": "code",
   "execution_count": 5,
   "metadata": {
    "collapsed": false
   },
   "outputs": [
    {
     "data": {
      "text/plain": [
       "array([ 0.  ,  0.25,  0.5 ,  0.75,  1.  ])"
      ]
     },
     "execution_count": 5,
     "metadata": {},
     "output_type": "execute_result"
    }
   ],
   "source": [
    "# Create an ordered list of numbers.\n",
    "sorted = linspace(0,1,5)\n",
    "sorted"
   ]
  },
  {
   "cell_type": "code",
   "execution_count": 6,
   "metadata": {
    "collapsed": false
   },
   "outputs": [
    {
     "data": {
      "text/plain": [
       "array([1, 4, 2, 1, 2, 1])"
      ]
     },
     "execution_count": 6,
     "metadata": {},
     "output_type": "execute_result"
    }
   ],
   "source": [
    "values = array([.1, .8, .3, .12, .5, .25])\n",
    "# Now find which index each number in values would inserted before in the \n",
    "# bins array.  Note that numbers equivalent to an entry in bins are inserted \n",
    "# before that number.  In this case, .25 is inserted at index 1.\n",
    "searchsorted(sorted, values)"
   ]
  },
  {
   "cell_type": "markdown",
   "metadata": {},
   "source": [
    "One good use case for this is, given a sorted set of numbers, imagine you want to find out the indices that demark values within a certain range.  You could do this with the following."
   ]
  },
  {
   "cell_type": "code",
   "execution_count": 7,
   "metadata": {
    "collapsed": false
   },
   "outputs": [
    {
     "data": {
      "text/plain": [
       "array([ 0.40365314,  0.40520276,  0.40993364,  0.41572747,  0.42136447,\n",
       "        0.42167157,  0.42367224,  0.43008579,  0.43020542,  0.43185927,\n",
       "        0.43613509,  0.45704605,  0.46584321,  0.47506117,  0.48133056,\n",
       "        0.48172586,  0.48230786,  0.49909364,  0.51126601,  0.53091904,\n",
       "        0.53164955,  0.53183286,  0.5513743 ,  0.55839878,  0.56576759,\n",
       "        0.56850132])"
      ]
     },
     "execution_count": 7,
     "metadata": {},
     "output_type": "execute_result"
    }
   ],
   "source": [
    "data = rand(100)\n",
    "data.sort()\n",
    "bounds = .4, .6\n",
    "low_index, high_index = searchsorted(data, bounds)\n",
    "# This should extract the values between .4 and .6\n",
    "data[low_index:high_index]"
   ]
  },
  {
   "cell_type": "markdown",
   "metadata": {},
   "source": [
    "## Sorting speed for 2D arrays"
   ]
  },
  {
   "cell_type": "markdown",
   "metadata": {},
   "source": [
    "When sorting a 2D array, you are always sorting along a particular axis.  Here we explore the sorting of a 1000x1000 array of random floating point values.  This section explores the trade-offs between data layout and sorting algorithm choice in terms of speed.\n",
    "\n",
    "The syntax of NumPy's sorting method is as follows:\n",
    "\n",
    "            sort(a, axis=-1, kind='quicksort', order=None)\n",
    "\n",
    "Here `a` is a potentially multi-dimensional array to sort, `axis` specifies along which axis of the array values will be sorted, and `kind` defines the sorting algorithm used.  `order` only applies to structured arrays.\n",
    "\n",
    "For `kind` the following options are available, comparing their relative speed (lower is better), memory usage, and [stability](http://en.wikipedia.org/wiki/Sorting_algorithm#Stability):\n",
    "\n",
    "<table border=\"1\" class=\"docutils\">\n",
    "<colgroup>\n",
    "<col width=\"22%\" />\n",
    "<col width=\"14%\" />\n",
    "<col width=\"26%\" />\n",
    "<col width=\"24%\" />\n",
    "<col width=\"14%\" />\n",
    "</colgroup>\n",
    "<thead valign=\"bottom\">\n",
    "<tr class=\"row-odd\"><th class=\"head\">kind</th>\n",
    "<th class=\"head\">speed</th>\n",
    "<th class=\"head\">worst case</th>\n",
    "<th class=\"head\">work space</th>\n",
    "<th class=\"head\">stable</th>\n",
    "</tr>\n",
    "</thead>\n",
    "<tbody valign=\"top\">\n",
    "<tr class=\"row-even\"><td>&#8216;quicksort&#8217;</td>\n",
    "<td>1</td>\n",
    "<td>O(n^2)</td>\n",
    "<td>0</td>\n",
    "<td>no</td>\n",
    "</tr>\n",
    "<tr class=\"row-odd\"><td>&#8216;mergesort&#8217;</td>\n",
    "<td>2</td>\n",
    "<td>O(n*log(n))</td>\n",
    "<td>~n/2</td>\n",
    "<td>yes</td>\n",
    "</tr>\n",
    "<tr class=\"row-even\"><td>&#8216;heapsort&#8217;</td>\n",
    "<td>3</td>\n",
    "<td>O(n*log(n))</td>\n",
    "<td>0</td>\n",
    "<td>no</td>\n",
    "</tr>\n",
    "</tbody>\n",
    "</table>\n",
    "\n"
   ]
  },
  {
   "cell_type": "code",
   "execution_count": 8,
   "metadata": {
    "collapsed": false
   },
   "outputs": [],
   "source": [
    "a = rand(1000,1000)"
   ]
  },
  {
   "cell_type": "code",
   "execution_count": 9,
   "metadata": {
    "collapsed": false
   },
   "outputs": [
    {
     "data": {
      "text/plain": [
       "array([[ 0.282,  0.366,  0.918, ...,  0.517,  0.767,  0.572],\n",
       "       [ 0.889,  0.331,  0.683, ...,  0.009,  0.255,  0.17 ],\n",
       "       [ 0.085,  0.172,  0.095, ...,  0.91 ,  0.693,  0.727],\n",
       "       ..., \n",
       "       [ 0.644,  0.314,  0.134, ...,  0.24 ,  0.89 ,  0.633],\n",
       "       [ 0.022,  0.279,  0.362, ...,  0.884,  0.925,  0.115],\n",
       "       [ 0.516,  0.842,  0.181, ...,  0.654,  0.446,  0.369]])"
      ]
     },
     "execution_count": 9,
     "metadata": {},
     "output_type": "execute_result"
    }
   ],
   "source": [
    "%precision 3\n",
    "a"
   ]
  },
  {
   "cell_type": "markdown",
   "metadata": {},
   "source": [
    "#### Speed of Sorting Along Different Axes"
   ]
  },
  {
   "cell_type": "markdown",
   "metadata": {},
   "source": [
    "Compare the speed of sorting along the last axis (contiguous memory) and the first axis where you are sorting non-contiguous memory.  In the latter case, NumPy makes a copy of the data before it can do the sort.  For a 1000x1000 array, sorting along the last axis is typically about 3x faster.  Your milage will vary depending on your array size."
   ]
  },
  {
   "cell_type": "code",
   "execution_count": 10,
   "metadata": {
    "collapsed": false
   },
   "outputs": [
    {
     "name": "stdout",
     "output_type": "stream",
     "text": [
      "10 loops, best of 3: 40.4 ms per loop\n"
     ]
    }
   ],
   "source": [
    "timeit sort(a, axis=-1)"
   ]
  },
  {
   "cell_type": "code",
   "execution_count": 11,
   "metadata": {
    "collapsed": false
   },
   "outputs": [
    {
     "name": "stdout",
     "output_type": "stream",
     "text": [
      "10 loops, best of 3: 43.9 ms per loop\n"
     ]
    }
   ],
   "source": [
    "timeit sort(a, axis=0)"
   ]
  },
  {
   "cell_type": "markdown",
   "metadata": {},
   "source": [
    "#### Sorting Random Data: Comparing sort types"
   ]
  },
  {
   "cell_type": "markdown",
   "metadata": {},
   "source": [
    "Comparing quicksort, mergesort, and heapsort on random data."
   ]
  },
  {
   "cell_type": "code",
   "execution_count": 12,
   "metadata": {
    "collapsed": false
   },
   "outputs": [
    {
     "name": "stdout",
     "output_type": "stream",
     "text": [
      "10 loops, best of 3: 40.2 ms per loop\n"
     ]
    }
   ],
   "source": [
    "timeit sort(a, kind='quicksort', axis=-1)"
   ]
  },
  {
   "cell_type": "code",
   "execution_count": 13,
   "metadata": {
    "collapsed": false
   },
   "outputs": [
    {
     "name": "stdout",
     "output_type": "stream",
     "text": [
      "10 loops, best of 3: 45.7 ms per loop\n"
     ]
    }
   ],
   "source": [
    "timeit sort(a, kind='mergesort', axis=-1)"
   ]
  },
  {
   "cell_type": "code",
   "execution_count": 14,
   "metadata": {
    "collapsed": false
   },
   "outputs": [
    {
     "name": "stdout",
     "output_type": "stream",
     "text": [
      "10 loops, best of 3: 70.3 ms per loop\n"
     ]
    }
   ],
   "source": [
    "timeit sort(a, kind='heapsort', axis=-1)"
   ]
  },
  {
   "cell_type": "markdown",
   "metadata": {},
   "source": [
    "#### Comparing sort of already sorted data"
   ]
  },
  {
   "cell_type": "code",
   "execution_count": 15,
   "metadata": {
    "collapsed": false
   },
   "outputs": [],
   "source": [
    "# in place sort of a so that it is now ordered along the last axis.\n",
    "a.sort() "
   ]
  },
  {
   "cell_type": "code",
   "execution_count": 16,
   "metadata": {
    "collapsed": false
   },
   "outputs": [
    {
     "name": "stdout",
     "output_type": "stream",
     "text": [
      "100 loops, best of 3: 7.3 ms per loop\n"
     ]
    }
   ],
   "source": [
    "timeit sort(a, kind='quicksort', axis=-1)"
   ]
  },
  {
   "cell_type": "code",
   "execution_count": 17,
   "metadata": {
    "collapsed": false
   },
   "outputs": [
    {
     "name": "stdout",
     "output_type": "stream",
     "text": [
      "100 loops, best of 3: 9.33 ms per loop\n"
     ]
    }
   ],
   "source": [
    "timeit sort(a, kind='mergesort', axis=-1)"
   ]
  },
  {
   "cell_type": "code",
   "execution_count": 18,
   "metadata": {
    "collapsed": false
   },
   "outputs": [
    {
     "name": "stdout",
     "output_type": "stream",
     "text": [
      "10 loops, best of 3: 54.1 ms per loop\n"
     ]
    }
   ],
   "source": [
    "timeit sort(a, kind='heapsort', axis=-1)"
   ]
  },
  {
   "cell_type": "markdown",
   "metadata": {},
   "source": [
    "Copyright 2008-2016, Enthought, Inc.<br>Use only permitted under license.  Copying, sharing, redistributing or other unauthorized use strictly prohibited.<br>http://www.enthought.com"
   ]
  }
 ],
 "metadata": {
  "kernelspec": {
   "display_name": "Python 2",
   "language": "python",
   "name": "python2"
  },
  "language_info": {
   "codemirror_mode": {
    "name": "ipython",
    "version": 2
   },
   "file_extension": ".py",
   "mimetype": "text/x-python",
   "name": "python",
   "nbconvert_exporter": "python",
   "pygments_lexer": "ipython2",
   "version": "2.7.12"
  }
 },
 "nbformat": 4,
 "nbformat_minor": 0
}
