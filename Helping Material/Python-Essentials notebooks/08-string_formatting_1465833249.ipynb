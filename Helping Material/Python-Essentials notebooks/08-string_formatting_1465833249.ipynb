{
 "cells": [
  {
   "cell_type": "markdown",
   "metadata": {},
   "source": [
    "# String Formatting"
   ]
  },
  {
   "cell_type": "markdown",
   "metadata": {},
   "source": [
    "String formatting is needed as soon as you want to control how text and data are displayed when printed in the terminal, in a data file or in a report that you need to generate. The recommeded way is by using the `format` method on a string which was added to the language fairly recently (Python 2.6).\n",
    "\n",
    "Examples\n",
    "--------\n",
    "The strategy is to create a string that you want to print (let's assume to the terminal for now). Curly brackets will indicate where (and potentially how) to display variables that are provided to the format method:"
   ]
  },
  {
   "cell_type": "code",
   "execution_count": 1,
   "metadata": {
    "collapsed": false
   },
   "outputs": [
    {
     "name": "stdout",
     "output_type": "stream",
     "text": [
      "{} {} {}\n"
     ]
    }
   ],
   "source": [
    "print('{} {} {}')"
   ]
  },
  {
   "cell_type": "code",
   "execution_count": 2,
   "metadata": {
    "collapsed": false
   },
   "outputs": [
    {
     "name": "stdout",
     "output_type": "stream",
     "text": [
      "a b c\n"
     ]
    }
   ],
   "source": [
    "print('{} {} {}'.format(\"a\", \"b\", \"c\"))"
   ]
  },
  {
   "cell_type": "code",
   "execution_count": 3,
   "metadata": {
    "collapsed": false
   },
   "outputs": [
    {
     "name": "stdout",
     "output_type": "stream",
     "text": [
      "My favorite number is 3.145926\n"
     ]
    }
   ],
   "source": [
    "s = 'My favorite number is {}'\n",
    "print s.format(3.145926)"
   ]
  },
  {
   "cell_type": "markdown",
   "metadata": {},
   "source": [
    "The fields where variables are injected can be numbered too (they must be numbered in Python 2.6):"
   ]
  },
  {
   "cell_type": "code",
   "execution_count": 4,
   "metadata": {
    "collapsed": false
   },
   "outputs": [
    {
     "name": "stdout",
     "output_type": "stream",
     "text": [
      "c b a\n"
     ]
    }
   ],
   "source": [
    "print('{2} {1} {0}'.format(\"a\", \"b\", \"c\"))"
   ]
  },
  {
   "cell_type": "code",
   "execution_count": 5,
   "metadata": {
    "collapsed": false
   },
   "outputs": [
    {
     "name": "stdout",
     "output_type": "stream",
     "text": [
      "blue 10 1.5\n"
     ]
    }
   ],
   "source": [
    "print('{color} {n} {x}'.format(n=10, x=1.5, color='blue'))"
   ]
  },
  {
   "cell_type": "code",
   "execution_count": 6,
   "metadata": {
    "collapsed": false
   },
   "outputs": [
    {
     "name": "stdout",
     "output_type": "stream",
     "text": [
      "blue 10 1.5 foo\n"
     ]
    }
   ],
   "source": [
    "print('{color} {0} {x} {1}'.format(10, 'foo', x=1.5, color='blue'))"
   ]
  },
  {
   "cell_type": "code",
   "execution_count": 7,
   "metadata": {
    "collapsed": false
   },
   "outputs": [
    {
     "name": "stdout",
     "output_type": "stream",
     "text": [
      "foo                 5       6.28\n"
     ]
    }
   ],
   "source": [
    "from math import pi\n",
    "print('{0:10} {1:10d} {c:10.2f}'.format('foo', 5, c=2*pi))"
   ]
  },
  {
   "cell_type": "code",
   "execution_count": null,
   "metadata": {
    "collapsed": false
   },
   "outputs": [],
   "source": [
    "'{0:2d}-{1}: {name}, ${price:.2f}'.format(7, 19, name='SC1', price=3.4)"
   ]
  },
  {
   "cell_type": "markdown",
   "metadata": {},
   "source": [
    "Format spec\n",
    "-----------\n",
    "\n",
    "Let's print a floating point number with various precisions:"
   ]
  },
  {
   "cell_type": "code",
   "execution_count": null,
   "metadata": {
    "collapsed": false
   },
   "outputs": [],
   "source": [
    "print('[{x:5.0f}]  [{x:5.1f}]  [{x:5.2f}]'.format(x=12.3456))"
   ]
  },
  {
   "cell_type": "markdown",
   "metadata": {},
   "source": [
    "How to control how to/whether to display the signs of positive and negative numbers:"
   ]
  },
  {
   "cell_type": "code",
   "execution_count": null,
   "metadata": {
    "collapsed": false
   },
   "outputs": [],
   "source": [
    "'{:-f}; {:-f}'.format(3.14, -3.14)"
   ]
  },
  {
   "cell_type": "code",
   "execution_count": null,
   "metadata": {
    "collapsed": false
   },
   "outputs": [],
   "source": [
    "'{:+f}; {:+f}'.format(3.14, -3.14)"
   ]
  },
  {
   "cell_type": "code",
   "execution_count": null,
   "metadata": {
    "collapsed": false
   },
   "outputs": [],
   "source": [
    "'{: f}; {: f}'.format(3.14, -3.14)"
   ]
  },
  {
   "cell_type": "markdown",
   "metadata": {},
   "source": [
    "Let's use the alignment options to see how to place a word within a larger string with the different types of caret symbols:"
   ]
  },
  {
   "cell_type": "code",
   "execution_count": null,
   "metadata": {
    "collapsed": false
   },
   "outputs": [],
   "source": [
    "print('[{0:<10s}]  [{0:>10s}]  [{0:^10s}]'.format('PYTHON'))"
   ]
  },
  {
   "cell_type": "code",
   "execution_count": null,
   "metadata": {
    "collapsed": false
   },
   "outputs": [],
   "source": [
    "print('[{0:*<10s}]  [{0:*>10s}]  [{0:*^10s}]'.format('PYTHON'))"
   ]
  },
  {
   "cell_type": "markdown",
   "metadata": {},
   "source": [
    "Finally, we can use the various codes allowed for integers to display it in various number bases:"
   ]
  },
  {
   "cell_type": "code",
   "execution_count": null,
   "metadata": {
    "collapsed": false
   },
   "outputs": [],
   "source": [
    "'{0:X} {0:d} {0:o} {0:b}'.format(254)"
   ]
  },
  {
   "cell_type": "markdown",
   "metadata": {},
   "source": [
    "## \"Old style\" formatting with %"
   ]
  },
  {
   "cell_type": "markdown",
   "metadata": {},
   "source": [
    "The old style formatting valid before Python 2.6 used the % symbol. It is still valid syntax for all current versions of Python though it is expected to become deprecated in favor of the format method above. Let's review it anyway because a lot of code has been written  using it and you will encounter it.\n",
    "\n",
    "The idea is that you replace the {} in the container string by % and a letter depending on the nature of the value that will be inserted (just like in C):"
   ]
  },
  {
   "cell_type": "code",
   "execution_count": null,
   "metadata": {
    "collapsed": false
   },
   "outputs": [],
   "source": [
    "s = \"some numbers:\" \n",
    "x = 1.34\n",
    "y = 2\n",
    "t = \"%s %f, %d\" % (s,x,y)\n",
    "print(t)"
   ]
  },
  {
   "cell_type": "markdown",
   "metadata": {},
   "source": [
    "The container string will be followed by a % again and a comma separated list of variables (we will see later that this is called a tuple, not a list) containing the values to be inserted. \n",
    "\n",
    "Controlling the way the sign of numbers is displayed can be done with this style as well:"
   ]
  },
  {
   "cell_type": "code",
   "execution_count": null,
   "metadata": {
    "collapsed": false
   },
   "outputs": [],
   "source": [
    "y = -2.1\n",
    "print(\"%f\\n%f\" % (x,y))"
   ]
  },
  {
   "cell_type": "code",
   "execution_count": null,
   "metadata": {
    "collapsed": false
   },
   "outputs": [],
   "source": [
    "print(\"% f\\n% f\" % (x,y))"
   ]
  },
  {
   "cell_type": "markdown",
   "metadata": {},
   "source": [
    "And just like with the format method, a value can be displayed differently depending on the conversion code used: d, f, e, ..."
   ]
  },
  {
   "cell_type": "code",
   "execution_count": null,
   "metadata": {
    "collapsed": false
   },
   "outputs": [],
   "source": [
    "print(\"%4.2f\" % x)"
   ]
  },
  {
   "cell_type": "code",
   "execution_count": null,
   "metadata": {
    "collapsed": false
   },
   "outputs": [],
   "source": [
    "print(\"%4.2e\" % x)"
   ]
  },
  {
   "cell_type": "markdown",
   "metadata": {},
   "source": [
    "Copyright 2008-2016, Enthought, Inc.<br>Use only permitted under license.  Copying, sharing, redistributing or other unauthorized use strictly prohibited.<br>http://www.enthought.com"
   ]
  }
 ],
 "metadata": {
  "kernelspec": {
   "display_name": "Python 2",
   "language": "python",
   "name": "python2"
  },
  "language_info": {
   "codemirror_mode": {
    "name": "ipython",
    "version": 2
   },
   "file_extension": ".py",
   "mimetype": "text/x-python",
   "name": "python",
   "nbconvert_exporter": "python",
   "pygments_lexer": "ipython2",
   "version": "2.7.11"
  }
 },
 "nbformat": 4,
 "nbformat_minor": 0
}
